{
 "metadata": {
  "name": "",
  "signature": "sha256:ddd5801abca27b44273ebd90a768d6d6a79135226229772a4f51f8c3afa2c2b7"
 },
 "nbformat": 3,
 "nbformat_minor": 0,
 "worksheets": [
  {
   "cells": [
    {
     "cell_type": "code",
     "collapsed": false,
     "input": [
      "from __future__ import division\n",
      "import galsim\n",
      "import matplotlib.pyplot as plt\n",
      "import matplotlib.gridspec as gridspec\n",
      "import numpy as np\n",
      "import astropy\n",
      "import astroML as aml\n",
      "from astroML.fourier import FT_continuous, sinegauss, sinegauss_FT\n",
      "import Library\n",
      "import mahotas as mh\n",
      "import SimpleCV\n",
      "import sklearn\n",
      "import skimage\n",
      "import compute_stats as cs\n",
      "%matplotlib\n",
      "from mpl_toolkits.mplot3d import Axes3D"
     ],
     "language": "python",
     "metadata": {},
     "outputs": [
      {
       "output_type": "stream",
       "stream": "stdout",
       "text": [
        "Using matplotlib backend: TkAgg\n"
       ]
      }
     ],
     "prompt_number": 1
    },
    {
     "cell_type": "code",
     "collapsed": false,
     "input": [
      "# Obtain the catalog and images of real galaxies.\n",
      "directory = '/home/luis/Documents/Research/deblending/cs231a/images'\n",
      "file_name = 'real_galaxy_catalog.fits'\n",
      "my_rgc = galsim.RealGalaxyCatalog(file_name,dir=directory)"
     ],
     "language": "python",
     "metadata": {},
     "outputs": [],
     "prompt_number": 2
    },
    {
     "cell_type": "code",
     "collapsed": true,
     "input": [
      "# Image and psf params\n",
      "x0_a = -0.5\n",
      "y0_a = 0\n",
      "x0_b = 0.5\n",
      "y0_b = 0\n",
      "\n",
      "beta = 3\n",
      "fwhm_psf = 0.6\n",
      "psf_flag = True\n",
      "x_len = 30\n",
      "y_len = 30\n",
      "pixel_scale = 0.2"
     ],
     "language": "python",
     "metadata": {},
     "outputs": [],
     "prompt_number": 46
    },
    {
     "cell_type": "code",
     "collapsed": false,
     "input": [
      "# Obtain the SNR to assign flux\n",
      "# Sky params\n",
      "# Use LSST defined sky noise for r-band\n",
      "add_noise_flag = True\n",
      "texp = 6900 # seconds\n",
      "sbar = 26.8 # sky photons per second per pixel\n",
      "sky_level = texp*sbar\n",
      "weight = 0.5\n",
      "rng = galsim.BaseDeviate(1)\n",
      "snr, flux, func = Library.fluxFromSNR_Real(x0_a, y0_a, x0_b, y0_b,\n",
      "                                           beta,fwhm_psf,\n",
      "                                           x_len,y_len,pixel_scale,\n",
      "                                           texp,sbar,weight,\n",
      "                                           rng,10000)"
     ],
     "language": "python",
     "metadata": {},
     "outputs": [
      {
       "output_type": "stream",
       "stream": "stdout",
       "text": [
        "3.26740787578\n",
        "8.38151473296"
       ]
      },
      {
       "output_type": "stream",
       "stream": "stdout",
       "text": [
        "\n",
        "11.5826156176"
       ]
      },
      {
       "output_type": "stream",
       "stream": "stdout",
       "text": [
        "\n",
        "14.4280279521"
       ]
      },
      {
       "output_type": "stream",
       "stream": "stdout",
       "text": [
        "\n",
        "20.8998663952"
       ]
      },
      {
       "output_type": "stream",
       "stream": "stdout",
       "text": [
        "\n",
        "27.2469391259"
       ]
      },
      {
       "output_type": "stream",
       "stream": "stdout",
       "text": [
        "\n",
        "32.0332453497"
       ]
      },
      {
       "output_type": "stream",
       "stream": "stdout",
       "text": [
        "\n"
       ]
      }
     ],
     "prompt_number": 47
    },
    {
     "cell_type": "code",
     "collapsed": false,
     "input": [
      "flux = func(15)\n",
      "flux"
     ],
     "language": "python",
     "metadata": {},
     "outputs": [
      {
       "metadata": {},
       "output_type": "pyout",
       "prompt_number": 48,
       "text": [
        "array(83139.42737598166)"
       ]
      }
     ],
     "prompt_number": 48
    },
    {
     "cell_type": "code",
     "collapsed": false,
     "input": [
      "rng = galsim.BaseDeviate(2)\n",
      "plot2 = False\n",
      "if plot2:\n",
      "    real_galaxy_b = Library.create_real_galaxy(flux/2,x0_a,y0_a,\n",
      "                                           beta,fwhm_psf,\n",
      "                                           x_len,y_len,pixel_scale,\n",
      "                                           rng)\n",
      "\n",
      "    real_galaxy_a = Library.create_real_galaxy(flux/2,x0_b,y0_b,\n",
      "                                           beta,fwhm_psf,\n",
      "                                           x_len,y_len,pixel_scale,\n",
      "                                           rng)\n",
      "\n",
      "                                           \n",
      "    im = real_galaxy_a + real_galaxy_b\n",
      "    \n",
      "else:\n",
      "    im = Library.create_real_galaxy(flux,x0_a,y0_a,\n",
      "                                    beta,fwhm_psf,\n",
      "                                    x_len,y_len,pixel_scale,\n",
      "                                    rng)"
     ],
     "language": "python",
     "metadata": {},
     "outputs": [],
     "prompt_number": 85
    },
    {
     "cell_type": "code",
     "collapsed": false,
     "input": [
      "# Add Noise\n",
      "Library.add_noise(im,sky_level=sky_level)"
     ],
     "language": "python",
     "metadata": {},
     "outputs": [
      {
       "metadata": {},
       "output_type": "pyout",
       "prompt_number": 86,
       "text": [
        "<galsim.image.Image at 0x14640f6c>"
       ]
      }
     ],
     "prompt_number": 86
    },
    {
     "cell_type": "code",
     "collapsed": false,
     "input": [
      "# Get the empirical SNR\n",
      "snr, mask = Library.calcSNR(im, texp, sbar, 0.5)\n",
      "snr"
     ],
     "language": "python",
     "metadata": {},
     "outputs": [
      {
       "metadata": {},
       "output_type": "pyout",
       "prompt_number": 87,
       "text": [
        "32.740724825304817"
       ]
      }
     ],
     "prompt_number": 87
    },
    {
     "cell_type": "code",
     "collapsed": false,
     "input": [
      "# Filter\n",
      "data = np.copy(im.array)\n",
      "gs = gridspec.GridSpec(2,1)\n",
      "fig = plt.figure(figsize=(10,11))\n",
      "ax1 = fig.add_subplot(gs[0,0])\n",
      "plt.title('Noisy Image')\n",
      "plt.imshow(data,interpolation='none',origin='lower',cmap = plt.get_cmap(name='hot'))\n",
      "plt.colorbar()\n",
      "data[data < np.sqrt(sky_level)] = 0\n",
      "data = mh.gaussian_filter(data,1)\n",
      "ax2 = fig.add_subplot(gs[1,0])\n",
      "plt.title('Filtered Image')\n",
      "plt.imshow(data,interpolation='none',origin='lower',cmap = plt.get_cmap(name='hot'))\n",
      "plt.colorbar()"
     ],
     "language": "python",
     "metadata": {},
     "outputs": [
      {
       "metadata": {},
       "output_type": "pyout",
       "prompt_number": 88,
       "text": [
        "<matplotlib.colorbar.Colorbar instance at 0x145083ec>"
       ]
      }
     ],
     "prompt_number": 88
    },
    {
     "cell_type": "code",
     "collapsed": false,
     "input": [
      "# Plotting the 3D structure\n",
      "x,y = im.array.shape\n",
      "domain = np.linspace(1,x,num=x)\n",
      "X,Y = np.meshgrid(domain,domain)\n",
      "fig = plt.figure(figsize=(20,11))\n",
      "ax = fig.add_subplot(111,projection='3d')\n",
      "ax.scatter(X,Y,data)\n",
      "plt.show()"
     ],
     "language": "python",
     "metadata": {},
     "outputs": [],
     "prompt_number": 89
    },
    {
     "cell_type": "code",
     "collapsed": false,
     "input": [
      "# Compute the FT\n",
      "ft = np.fft.fft2(data)\n",
      "mag = np.absolute(ft)\n",
      "plt.imshow(np.log(mag),interpolation='none',origin='lower')\n",
      "plt.colorbar()"
     ],
     "language": "python",
     "metadata": {},
     "outputs": [
      {
       "metadata": {},
       "output_type": "pyout",
       "prompt_number": 14,
       "text": [
        "<matplotlib.colorbar.Colorbar instance at 0xd8c564c>"
       ]
      }
     ],
     "prompt_number": 14
    },
    {
     "cell_type": "code",
     "collapsed": false,
     "input": [
      "# Compute asymmetry\n",
      "image = data\n",
      "image[image < np.sqrt(sky_level)] = 0\n",
      "a_rms, a_abs, a_abs_mat, a_est, peak = cs.compute_asym(image,[0,0],x_len,y_len)\n",
      "peak, a_est"
     ],
     "language": "python",
     "metadata": {},
     "outputs": [
      {
       "metadata": {},
       "output_type": "pyout",
       "prompt_number": 90,
       "text": [
        "((-2, 0), 0.17640353133002895)"
       ]
      }
     ],
     "prompt_number": 90
    },
    {
     "cell_type": "code",
     "collapsed": false,
     "input": [
      "plt.imshow(a_abs_mat,interpolation='none',origin='lower')\n",
      "plt.colorbar()"
     ],
     "language": "python",
     "metadata": {},
     "outputs": [
      {
       "metadata": {},
       "output_type": "pyout",
       "prompt_number": 91,
       "text": [
        "<matplotlib.colorbar.Colorbar instance at 0xc93af0c>"
       ]
      }
     ],
     "prompt_number": 91
    },
    {
     "cell_type": "code",
     "collapsed": false,
     "input": [
      "# m20\n",
      "m20, m20mat, peak = cs.find_min_m20(data,x_len,y_len)\n",
      "m20"
     ],
     "language": "python",
     "metadata": {},
     "outputs": [
      {
       "metadata": {},
       "output_type": "pyout",
       "prompt_number": 18,
       "text": [
        "-3.4558642683960836"
       ]
      }
     ],
     "prompt_number": 18
    },
    {
     "cell_type": "code",
     "collapsed": false,
     "input": [
      "plt.imshow(m20mat,interpolation='none',origin='lower')\n",
      "plt.colorbar()"
     ],
     "language": "python",
     "metadata": {},
     "outputs": [
      {
       "metadata": {},
       "output_type": "pyout",
       "prompt_number": 19,
       "text": [
        "<matplotlib.colorbar.Colorbar instance at 0xc85702c>"
       ]
      }
     ],
     "prompt_number": 19
    },
    {
     "cell_type": "code",
     "collapsed": false,
     "input": [
      "# Gini coefficient\n",
      "gini = cs.compute_gini(data)\n",
      "gini"
     ],
     "language": "python",
     "metadata": {},
     "outputs": [
      {
       "metadata": {},
       "output_type": "pyout",
       "prompt_number": 92,
       "text": [
        "0.94792710402105074"
       ]
      }
     ],
     "prompt_number": 92
    },
    {
     "cell_type": "code",
     "collapsed": false,
     "input": [
      "# Denoising the image\n",
      "from skimage import io, filter\n",
      "from skimage.morphology import disk\n",
      "bilat = filter.rank.mean_bilateral(data.astype(np.uint16),disk(20),s0=10,s1=10)\n",
      "plt.imshow(bilat,interpolation='none',origin='lower',cmap=plt.cm.hot)"
     ],
     "language": "python",
     "metadata": {},
     "outputs": [
      {
       "metadata": {},
       "output_type": "pyout",
       "prompt_number": 18,
       "text": [
        "<matplotlib.image.AxesImage at 0xc49e7ec>"
       ]
      }
     ],
     "prompt_number": 18
    },
    {
     "cell_type": "code",
     "collapsed": false,
     "input": [
      "from skimage.filter.rank import entropy\n",
      "plt.imshow(entropy(data.astype(np.uint8),disk(20)),interpolation='none',origin='lower',cmap=plt.cm.hot)"
     ],
     "language": "python",
     "metadata": {},
     "outputs": [
      {
       "metadata": {},
       "output_type": "pyout",
       "prompt_number": 19,
       "text": [
        "<matplotlib.image.AxesImage at 0xc91e76c>"
       ]
      }
     ],
     "prompt_number": 19
    },
    {
     "cell_type": "code",
     "collapsed": false,
     "input": [
      "# Contour Finding\n",
      "from skimage import measure\n",
      "level = np.sqrt(sky_level)\n",
      "contours = measure.find_contours(data,level)\n",
      "# Display the image and plot all contours found\n",
      "fig, ax = plt.subplots()\n",
      "ax.imshow(data, interpolation='nearest', origin='lower', cmap=plt.cm.hot)\n",
      "\n",
      "for n, contour in enumerate(contours):\n",
      "    ax.plot(contour[:, 1], contour[:, 0], linewidth=2)\n",
      "\n",
      "ax.axis('image')\n",
      "ax.set_xticks([])\n",
      "ax.set_yticks([])\n",
      "plt.show()"
     ],
     "language": "python",
     "metadata": {},
     "outputs": [],
     "prompt_number": 93
    },
    {
     "cell_type": "code",
     "collapsed": false,
     "input": [
      "# Local Binary Patterns - Have to Tune\n",
      "from skimage import feature\n",
      "LB = feature.local_binary_pattern(data,10,1)\n",
      "plt.imshow(LB,interpolation='none',origin='lower',cmap=plt.cm.hot)\n",
      "plt.colorbar()"
     ],
     "language": "python",
     "metadata": {},
     "outputs": [
      {
       "metadata": {},
       "output_type": "pyout",
       "prompt_number": 21,
       "text": [
        "<matplotlib.colorbar.Colorbar instance at 0xc55392c>"
       ]
      }
     ],
     "prompt_number": 21
    },
    {
     "cell_type": "code",
     "collapsed": false,
     "input": [
      "# Random Walker - Watershed\n",
      "from skimage import morphology, segmentation\n",
      "from scipy import ndimage\n",
      "from skimage.feature import peak_local_max\n",
      "\n",
      "mask = (data/(0.1*data.max()))\n",
      "mask = mask.astype(int)\n",
      "rand_walk = segmentation.random_walker(data,mask,return_full_prob=False)\n",
      "plt.imshow(rand_walk,interpolation='none',origin='lower',cmap=plt.cm.hot)\n",
      "plt.colorbar()"
     ],
     "language": "python",
     "metadata": {},
     "outputs": [
      {
       "metadata": {},
       "output_type": "pyout",
       "prompt_number": 94,
       "text": [
        "<matplotlib.colorbar.Colorbar instance at 0x10895d2c>"
       ]
      }
     ],
     "prompt_number": 94
    },
    {
     "cell_type": "code",
     "collapsed": false,
     "input": [
      "image = data > np.sqrt(sky_level)\n",
      "im = data\n",
      "im[im < np.sqrt(sky_level)] = 0\n",
      "# Now we want to separate the two objects in image\n",
      "# Generate the markers as local maxima of the distance to the background\n",
      "#distance = ndimage.distance_transform_edt(image)\n",
      "local_maxi = peak_local_max(im, indices=False, \n",
      "                            labels=image)\n",
      "markers = ndimage.label(local_maxi)[0]\n",
      "labels = morphology.watershed(-im, markers, mask=image)\n",
      "\n",
      "plt.imshow(image,interpolation='none',origin='lower',cmap=plt.cm.hot)\n",
      "plt.colorbar()\n",
      "plt.figure()\n",
      "plt.imshow(im,interpolation='none',origin='lower',cmap=plt.cm.hot)\n",
      "plt.colorbar()\n",
      "plt.figure()\n",
      "plt.imshow(labels,interpolation='none',origin='lower',cmap=plt.cm.hot)\n",
      "plt.colorbar()"
     ],
     "language": "python",
     "metadata": {},
     "outputs": [
      {
       "metadata": {},
       "output_type": "pyout",
       "prompt_number": 95,
       "text": [
        "<matplotlib.colorbar.Colorbar instance at 0x13ab2f6c>"
       ]
      }
     ],
     "prompt_number": 95
    },
    {
     "cell_type": "code",
     "collapsed": false,
     "input": [
      "# Use HOG\n",
      "from skimage.feature import hog\n",
      "from skimage import color, exposure\n",
      "image = data\n",
      "image[image < np.sqrt(sky_level)] = 0\n",
      "fd, hog_image = hog(image, orientations=2, pixels_per_cell=(2, 2),\n",
      "                    cells_per_block=(10,10), visualise=True, normalise=True)\n",
      "fig = plt.figure(figsize=(10,10))\n",
      "ax1 = fig.add_subplot(gs[0,0])\n",
      "plt.title('Hog Image')\n",
      "plt.imshow(hog_image,interpolation='none',origin='lower',cmap=plt.cm.hot)\n",
      "plt.colorbar()\n",
      "ax1 = fig.add_subplot(gs[1,0])\n",
      "plt.title('Original Image')\n",
      "plt.imshow(image,interpolation='none',origin='lower',cmap=plt.cm.hot)\n",
      "plt.colorbar()"
     ],
     "language": "python",
     "metadata": {},
     "outputs": [
      {
       "metadata": {},
       "output_type": "pyout",
       "prompt_number": 96,
       "text": [
        "array([ 0.,  0.,  0., ...,  0.,  0.,  0.])"
       ]
      }
     ],
     "prompt_number": 96
    }
   ],
   "metadata": {}
  }
 ]
}