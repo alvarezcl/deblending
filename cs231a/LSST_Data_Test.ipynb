{
 "metadata": {
  "name": "",
  "signature": "sha256:e6915884d9b0fefd72f14f67407e442b610c28720cbe2549a86ebf883427c855"
 },
 "nbformat": 3,
 "nbformat_minor": 0,
 "worksheets": [
  {
   "cells": [
    {
     "cell_type": "markdown",
     "metadata": {},
     "source": [
      "Imports"
     ]
    },
    {
     "cell_type": "code",
     "collapsed": false,
     "input": [
      "import matplotlib.pyplot as plt\n",
      "import numpy as np\n",
      "import fitsio\n",
      "import Library\n",
      "%matplotlib inline"
     ],
     "language": "python",
     "metadata": {},
     "outputs": [],
     "prompt_number": 1
    },
    {
     "cell_type": "markdown",
     "metadata": {},
     "source": [
      "Read the data."
     ]
    },
    {
     "cell_type": "code",
     "collapsed": false,
     "input": [
      "# Infrared band\n",
      "fits_i = fitsio.FITS(\"LSST_i.fits\")\n",
      "img_i = fits_i[0].read()\n",
      "data_i = fits_i[1].read()\n",
      "# Red band\n",
      "fits_r = fitsio.FITS(\"LSST_r.fits\")\n",
      "img_r = fits_r[0].read()\n",
      "data_r = fits_r[1].read()"
     ],
     "language": "python",
     "metadata": {},
     "outputs": [],
     "prompt_number": 8
    },
    {
     "cell_type": "code",
     "collapsed": false,
     "input": [],
     "language": "python",
     "metadata": {},
     "outputs": []
    }
   ],
   "metadata": {}
  }
 ]
}