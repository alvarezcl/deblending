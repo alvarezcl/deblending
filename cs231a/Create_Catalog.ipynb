{
 "metadata": {
  "name": "",
  "signature": "sha256:c4358615c509a65cfedc03d115c5f76e0cab8d3679d44d4887a95f5ac18fdd84"
 },
 "nbformat": 3,
 "nbformat_minor": 0,
 "worksheets": [
  {
   "cells": [
    {
     "cell_type": "code",
     "collapsed": false,
     "input": [
      "import matplotlib.pyplot as plt\n",
      "import matplotlib.gridspec as gridspec\n",
      "import mahotas as mh"
     ],
     "language": "python",
     "metadata": {},
     "outputs": [],
     "prompt_number": 1
    },
    {
     "cell_type": "code",
     "collapsed": false,
     "input": [
      "## Script to create training and test set of images\n",
      "from __future__ import division\n",
      "import galsim\n",
      "import pandas as pd\n",
      "import random\n",
      "import Library\n",
      "import numpy as np\n",
      "import pdb\n",
      "\n",
      "def real_catalog(total_num):\n",
      "    # Obtain the catalog and images of real galaxies.\n",
      "    directory = '/home/luis/Documents/Research/deblending/cs231a/images'\n",
      "    file_name = 'real_galaxy_catalog.fits'\n",
      "    my_rgc = galsim.RealGalaxyCatalog(file_name,dir=directory)\n",
      "\n",
      "    # Get SNR Range\n",
      "    # Image and psf params\n",
      "    x0 = -0.5\n",
      "    y0 = 0\n",
      "    x0_0 = 0.5\n",
      "    y0_0 = 0\n",
      "\n",
      "    beta = 3\n",
      "    fwhm_psf = 0.6\n",
      "    x_len = 30\n",
      "    y_len = 30\n",
      "    pixel_scale = 0.2\n",
      "\n",
      "    texp = 6900 # seconds\n",
      "    sbar = 26.8 # sky photons per second per pixel\n",
      "    sky_level = texp*sbar\n",
      "    sky_noise = np.sqrt(sky_level)\n",
      "    weight = 0.5\n",
      "    rng = galsim.BaseDeviate(121)\n",
      "    snr, flux, SNRtoFlux = Library.fluxFromSNR_Real(x0,y0,x0_0,y0_0,\n",
      "                                                    beta,fwhm_psf,\n",
      "                                                    x_len,y_len,pixel_scale,\n",
      "                                                    texp,sbar,weight,\n",
      "                                                    rng,10000,50)\n",
      "\n",
      "    # RNGs\n",
      "    seed_a = galsim.BaseDeviate(1028); seed_b = galsim.BaseDeviate(161)\n",
      "    seed_c = galsim.BaseDeviate(873562)       \n",
      "\n",
      "    # Object Parameters\n",
      "    low_x0 = (-x_len/5)*pixel_scale; high_x0 = (x_len/5)*pixel_scale          # Arcsec\n",
      "    low_y0 = (-y_len/5)*pixel_scale; high_y0 = (y_len/5)*pixel_scale          # Arcsec\n",
      "    low_SNR = 25; high_SNR = 50;        \n",
      "\n",
      "    flux_variation = [0.35,0.65]    \n",
      "\n",
      "    # Store each image in a dict to convert to a pandas series and\n",
      "    # store each image label in a dict as well.\n",
      "    noisy_images = []\n",
      "    filtered_images = []\n",
      "    labels = []\n",
      "    snr_values = []\n",
      "    for i in xrange(0,total_num):\n",
      "\n",
      "        SNR = random.uniform(low_SNR,high_SNR)\n",
      "        tot_flux = SNRtoFlux(SNR)\n",
      "        empirical_SNR = 0\n",
      "        \n",
      "        if (tot_flux < 100000): tot_flux = 100000\n",
      "        \n",
      "        #while (empirical_SNR < low_SNR or empirical_SNR > high_SNR):\n",
      "        \n",
      "        # Determine the the number of galaxies (3 at most) and the flux spread\n",
      "        Num = np.random.randint(1,5)\n",
      "        if Num == 1 or Num == 4:\n",
      "            label = 1\n",
      "            flux_a = tot_flux\n",
      "            flux_b = 1\n",
      "            flux_c = 1\n",
      "        elif Num == 2:\n",
      "            label = 2\n",
      "            flux_ratio = random.uniform(flux_variation[0],flux_variation[1])\n",
      "            flux_a = tot_flux*flux_ratio\n",
      "            flux_b = tot_flux*(1-flux_ratio)\n",
      "            flux_c = 1\n",
      "        elif Num == 3:\n",
      "            label = 3\n",
      "            flux_ratio = random.uniform(flux_variation[0],flux_variation[1])\n",
      "            flux_a = tot_flux*flux_ratio\n",
      "            flux_b = tot_flux*(1-0.5*flux_ratio)\n",
      "            flux_c = tot_flux*(1-0.5*flux_ratio)\n",
      "\n",
      "\n",
      "        # Images\n",
      "        x0_a = random.uniform(low_x0,high_x0)\n",
      "        y0_a = random.uniform(low_y0,high_y0)\n",
      "\n",
      "        image_a = Library.create_real_galaxy(flux_a,x0_a,y0_a,\n",
      "                                             beta,fwhm_psf,\n",
      "                                             x_len,y_len,pixel_scale,\n",
      "                                             seed_a)\n",
      "\n",
      "        # Now for any other objects, we make sure each object has centroid\n",
      "        # coordinates within some tolerance of the primary object.\n",
      "        # Image b\n",
      "        x0_b = x0_a + random.uniform(-0.2,0.2)\n",
      "        y0_b = y0_a + random.uniform(-0.2,0.2)\n",
      "        image_b = Library.create_real_galaxy(flux_b,x0_b,y0_b,\n",
      "                                             beta,fwhm_psf,\n",
      "                                             x_len,y_len,pixel_scale,\n",
      "                                             seed_b)\n",
      "\n",
      "        # Image c\n",
      "        x0_c = x0_b + random.uniform(-0.2,0.2)\n",
      "        y0_c = y0_b + random.uniform(-0.2,0.2)\n",
      "        image_c = Library.create_real_galaxy(flux_c,x0_c,y0_c,\n",
      "                                             beta,fwhm_psf,\n",
      "                                             x_len,y_len,pixel_scale,\n",
      "                                             seed_c)\n",
      "\n",
      "        image = image_a + image_b + image_c\n",
      "        Library.add_noise(image,sky_level=sky_level)\n",
      "        im = np.copy(image.array)\n",
      "        im[im < sky_noise] = 0\n",
      "        filtered_image = mh.gaussian_filter(im,1)\n",
      "        empirical_SNR, mask = Library.calcSNR(image, texp, sbar, weight)\n",
      "        \n",
      "        if (np.mod(i,500) == 0):\n",
      "            print i\n",
      "                \n",
      "        noisy_images.append(image.array)\n",
      "        filtered_images.append(filtered_image)\n",
      "        labels.append(label)\n",
      "        snr_values.append(empirical_SNR)\n",
      "        \n",
      "    return pd.Panel(noisy_images), pd.Panel(filtered_images), pd.Series(labels), pd.Series(snr_values)"
     ],
     "language": "python",
     "metadata": {},
     "outputs": [],
     "prompt_number": 2
    },
    {
     "cell_type": "code",
     "collapsed": false,
     "input": [
      "noisy_images, filtered_images, labels, snr = real_catalog(2)"
     ],
     "language": "python",
     "metadata": {},
     "outputs": [
      {
       "output_type": "stream",
       "stream": "stdout",
       "text": [
        "1.27711967459\n",
        "6.29015976771"
       ]
      },
      {
       "output_type": "stream",
       "stream": "stdout",
       "text": [
        "\n",
        "12.5476558288"
       ]
      },
      {
       "output_type": "stream",
       "stream": "stdout",
       "text": [
        "\n",
        "13.407054565"
       ]
      },
      {
       "output_type": "stream",
       "stream": "stdout",
       "text": [
        "\n",
        "19.8723720214"
       ]
      },
      {
       "output_type": "stream",
       "stream": "stdout",
       "text": [
        "\n",
        "22.206816336"
       ]
      },
      {
       "output_type": "stream",
       "stream": "stdout",
       "text": [
        "\n",
        "31.9943439106"
       ]
      },
      {
       "output_type": "stream",
       "stream": "stdout",
       "text": [
        "\n",
        "36.4667830609"
       ]
      },
      {
       "output_type": "stream",
       "stream": "stdout",
       "text": [
        "\n",
        "36.8797280599"
       ]
      },
      {
       "output_type": "stream",
       "stream": "stdout",
       "text": [
        "\n",
        "37.0610647122"
       ]
      },
      {
       "output_type": "stream",
       "stream": "stdout",
       "text": [
        "\n",
        "40.2710229127"
       ]
      },
      {
       "output_type": "stream",
       "stream": "stdout",
       "text": [
        "\n",
        "47.9145165997"
       ]
      },
      {
       "output_type": "stream",
       "stream": "stdout",
       "text": [
        "\n",
        "52.0521728782"
       ]
      },
      {
       "output_type": "stream",
       "stream": "stdout",
       "text": [
        "\n",
        "0"
       ]
      },
      {
       "output_type": "stream",
       "stream": "stdout",
       "text": [
        "\n"
       ]
      }
     ],
     "prompt_number": 3
    },
    {
     "cell_type": "code",
     "collapsed": true,
     "input": [
      "fig = plt.figure(figsize=(15,11))\n",
      "gs = gridspec.GridSpec(4,4)\n",
      "count = 0\n",
      "fs = 10\n",
      "for i in xrange(0,4):\n",
      "    for j in xrange(0,4):\n",
      "        if (count > len(filtered_images)-1):\n",
      "            continue\n",
      "        else:\n",
      "            ax = fig.add_subplot(gs[i,j])\n",
      "            a = ax.imshow(filtered_image_val[count],interpolation='bilinear',origin='lower',cmap=plt.get_cmap(name='hot'))\n",
      "            plt.xlabel('Pixels',fontsize=fs)\n",
      "            cbar = plt.colorbar(a,shrink=0.7)\n",
      "            cbar.ax.tick_params(labelsize=10)\n",
      "            if j == 0: plt.ylabel('Pixels',fontsize=fs)\n",
      "        count = count + 1\n",
      "plt.suptitle('Gaussian Filtered Images',fontsize=fs+15)\n",
      "plt.show()"
     ],
     "language": "python",
     "metadata": {},
     "outputs": [],
     "prompt_number": 84
    },
    {
     "cell_type": "code",
     "collapsed": false,
     "input": [
      "snr.to_csv('snr.csv',header=True)\n",
      "labels.to_csv('labels.csv',header=True)\n",
      "filtered_images.to_pickle('filtered_images')\n",
      "noisy_images.to_pickle('noisy_images')"
     ],
     "language": "python",
     "metadata": {},
     "outputs": [],
     "prompt_number": 7
    },
    {
     "cell_type": "code",
     "collapsed": false,
     "input": [],
     "language": "python",
     "metadata": {},
     "outputs": [],
     "prompt_number": 8
    },
    {
     "cell_type": "code",
     "collapsed": false,
     "input": [],
     "language": "python",
     "metadata": {},
     "outputs": []
    },
    {
     "cell_type": "code",
     "collapsed": false,
     "input": [
      "load_labels = pd.read_csv('labels.csv',dtype={'1':np.int64})\n",
      "load_labels = load_labels.drop('Unnamed: 0',1)\n",
      "load_labels"
     ],
     "language": "python",
     "metadata": {},
     "outputs": [
      {
       "html": [
        "<div style=\"max-height:1000px;max-width:1500px;overflow:auto;\">\n",
        "<table border=\"1\" class=\"dataframe\">\n",
        "  <thead>\n",
        "    <tr style=\"text-align: right;\">\n",
        "      <th></th>\n",
        "      <th>0</th>\n",
        "    </tr>\n",
        "  </thead>\n",
        "  <tbody>\n",
        "    <tr>\n",
        "      <th>0</th>\n",
        "      <td> 1</td>\n",
        "    </tr>\n",
        "    <tr>\n",
        "      <th>1</th>\n",
        "      <td> 3</td>\n",
        "    </tr>\n",
        "    <tr>\n",
        "      <th>2</th>\n",
        "      <td> 2</td>\n",
        "    </tr>\n",
        "    <tr>\n",
        "      <th>3</th>\n",
        "      <td> 3</td>\n",
        "    </tr>\n",
        "    <tr>\n",
        "      <th>4</th>\n",
        "      <td> 2</td>\n",
        "    </tr>\n",
        "  </tbody>\n",
        "</table>\n",
        "</div>"
       ],
       "metadata": {},
       "output_type": "pyout",
       "prompt_number": 166,
       "text": [
        "   0\n",
        "0  1\n",
        "1  3\n",
        "2  2\n",
        "3  3\n",
        "4  2"
       ]
      }
     ],
     "prompt_number": 166
    },
    {
     "cell_type": "code",
     "collapsed": false,
     "input": [
      "new_labels"
     ],
     "language": "python",
     "metadata": {},
     "outputs": [
      {
       "metadata": {},
       "output_type": "pyout",
       "prompt_number": 167,
       "text": [
        "0    1\n",
        "1    3\n",
        "2    2\n",
        "3    3\n",
        "4    2\n",
        "dtype: int64"
       ]
      }
     ],
     "prompt_number": 167
    },
    {
     "cell_type": "code",
     "collapsed": false,
     "input": [
      "load_noise = pd.read_csv('noisy_images.csv',dtype={'1':np.float64})\n",
      "load_noise = load_noise.drop('Unnamed: 0',1)\n",
      "load_noise"
     ],
     "language": "python",
     "metadata": {},
     "outputs": [
      {
       "html": [
        "<div style=\"max-height:1000px;max-width:1500px;overflow:auto;\">\n",
        "<table border=\"1\" class=\"dataframe\">\n",
        "  <thead>\n",
        "    <tr style=\"text-align: right;\">\n",
        "      <th></th>\n",
        "      <th>0</th>\n",
        "    </tr>\n",
        "  </thead>\n",
        "  <tbody>\n",
        "    <tr>\n",
        "      <th>0</th>\n",
        "      <td> &lt;galsim.image.Image object at 0xe132f6c&gt;</td>\n",
        "    </tr>\n",
        "    <tr>\n",
        "      <th>1</th>\n",
        "      <td> &lt;galsim.image.Image object at 0xea153ec&gt;</td>\n",
        "    </tr>\n",
        "    <tr>\n",
        "      <th>2</th>\n",
        "      <td> &lt;galsim.image.Image object at 0xea28ecc&gt;</td>\n",
        "    </tr>\n",
        "    <tr>\n",
        "      <th>3</th>\n",
        "      <td> &lt;galsim.image.Image object at 0xe132b2c&gt;</td>\n",
        "    </tr>\n",
        "    <tr>\n",
        "      <th>4</th>\n",
        "      <td> &lt;galsim.image.Image object at 0xdbb4c4c&gt;</td>\n",
        "    </tr>\n",
        "  </tbody>\n",
        "</table>\n",
        "</div>"
       ],
       "metadata": {},
       "output_type": "pyout",
       "prompt_number": 164,
       "text": [
        "                                          0\n",
        "0  <galsim.image.Image object at 0xe132f6c>\n",
        "1  <galsim.image.Image object at 0xea153ec>\n",
        "2  <galsim.image.Image object at 0xea28ecc>\n",
        "3  <galsim.image.Image object at 0xe132b2c>\n",
        "4  <galsim.image.Image object at 0xdbb4c4c>"
       ]
      }
     ],
     "prompt_number": 164
    },
    {
     "cell_type": "code",
     "collapsed": false,
     "input": [],
     "language": "python",
     "metadata": {},
     "outputs": []
    }
   ],
   "metadata": {}
  }
 ]
}