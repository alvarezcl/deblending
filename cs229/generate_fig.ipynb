{
 "metadata": {
  "name": "",
  "signature": "sha256:d8ca09c67dfe21aa076129035b77cdf9b21094841897f934090bd7ddc0601b01"
 },
 "nbformat": 3,
 "nbformat_minor": 0,
 "worksheets": [
  {
   "cells": [
    {
     "cell_type": "code",
     "collapsed": false,
     "input": [
      "import Library as L\n",
      "import matplotlib.pyplot as plt\n",
      "import galsim\n",
      "import numpy as np\n",
      "\n",
      "# Image properties\n",
      "pixel_scale = 1/5     # arcsec / pixel\n",
      "x_len = y_len = 30           # pixel\n",
      "\n",
      "# Use LSST defined sky noise for r-band\n",
      "add_noise_flag = True\n",
      "texp = 6900 # seconds\n",
      "sbar = 26.8 # sky photons per second per pixel\n",
      "sky_level = texp*sbar\n",
      "sky_noise = np.sqrt(sky_level)\n",
      "\n",
      "# psf properties\n",
      "psf_flag = True\n",
      "beta = 3\n",
      "fwhm_psf = 0.6\n",
      "method='phot'"
     ],
     "language": "python",
     "metadata": {},
     "outputs": [],
     "prompt_number": 101
    },
    {
     "cell_type": "code",
     "collapsed": false,
     "input": [
      "image = L.create_galaxy(500000,1,0.1,0.5,0,-0.9,method=method,psf_flag=True,psf_type=galsim.Moffat, beta=beta, size_psf=fwhm_psf, flux_psf=1,x_len=x_len,y_len=y_len) + L.create_galaxy(500000,0.9,-0.1,-0.3,-0.2,0.5,method=method,psf_flag=True,psf_type=galsim.Moffat, beta=beta, size_psf=fwhm_psf, flux_psf=1,x_len=x_len,y_len=y_len) "
     ],
     "language": "python",
     "metadata": {},
     "outputs": [],
     "prompt_number": 102
    },
    {
     "cell_type": "code",
     "collapsed": false,
     "input": [
      "L.add_noise(image,sky_level=texp*sbar)"
     ],
     "language": "python",
     "metadata": {},
     "outputs": [
      {
       "metadata": {},
       "output_type": "pyout",
       "prompt_number": 103,
       "text": [
        "<galsim.image.Image at 0xd62ebec>"
       ]
      }
     ],
     "prompt_number": 103
    },
    {
     "cell_type": "code",
     "collapsed": false,
     "input": [
      "snr,m,s,mask = L.calc_SNR(image,texp,sbar,0.5)\n",
      "snr"
     ],
     "language": "python",
     "metadata": {},
     "outputs": [
      {
       "metadata": {},
       "output_type": "pyout",
       "prompt_number": 104,
       "text": [
        "126.29640501474286"
       ]
      }
     ],
     "prompt_number": 104
    },
    {
     "cell_type": "code",
     "collapsed": false,
     "input": [
      "fig = plt.figure(figsize=(6,6))\n",
      "fig.set_facecolor('white')\n",
      "plt.imshow(image.array,interpolation='none',origin='lower')\n",
      "plt.colorbar(shrink=0.8)\n",
      "plt.xlabel('Pixels'); plt.ylabel('Pixels'); plt.title('Galsim Generated Blended\\n Image with Sky Noise and PSF\\n$SNR=126$')\n",
      "plt.show()"
     ],
     "language": "python",
     "metadata": {},
     "outputs": [],
     "prompt_number": 108
    },
    {
     "cell_type": "code",
     "collapsed": false,
     "input": [],
     "language": "python",
     "metadata": {},
     "outputs": []
    }
   ],
   "metadata": {}
  }
 ]
}