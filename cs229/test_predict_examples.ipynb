{
 "metadata": {
  "name": "",
  "signature": "sha256:2aef2fda27f45bb133461a6e68222b8912c8ac2d32def6849b843221cb583b07"
 },
 "nbformat": 3,
 "nbformat_minor": 0,
 "worksheets": [
  {
   "cells": [
    {
     "cell_type": "code",
     "collapsed": false,
     "input": [
      "from sklearn import datasets\n",
      "iris = datasets.load_iris()\n",
      "from sklearn.naive_bayes import MultinomialNB\n",
      "from sklearn.linear_model import LogisticRegression\n",
      "from sklearn import svm\n",
      "from sklearn.ensemble import RandomForestClassifier\n",
      "import pandas as pd\n",
      "import compute_stats as cs\n",
      "import numpy as np"
     ],
     "language": "python",
     "metadata": {},
     "outputs": [],
     "prompt_number": 1
    },
    {
     "cell_type": "code",
     "collapsed": true,
     "input": [
      "# Now try on the data from blends\n",
      "tot_data = pd.read_csv('test.csv')\n",
      "tot_data = tot_data.drop('Unnamed: 0',1)\n",
      "labels = tot_data['label']\n",
      "labels[labels==1] = 0; labels[labels>1] = 1\n",
      "tot_data = tot_data.drop('label',1)"
     ],
     "language": "python",
     "metadata": {},
     "outputs": [],
     "prompt_number": 12
    },
    {
     "cell_type": "code",
     "collapsed": true,
     "input": [
      "index_data = cs.convert_to_integers(pd.DataFrame.copy(tot_data),1000)\n",
      "index_data = index_data.drop('intensity_r',1)\n",
      "index_data = index_data.drop('percentile',1)\n",
      "index_data = index_data.drop('reg_ratio',1)"
     ],
     "language": "python",
     "metadata": {},
     "outputs": [],
     "prompt_number": 59
    },
    {
     "cell_type": "code",
     "collapsed": false,
     "input": [
      "clf_proj = MultinomialNB()\n",
      "clf_proj.fit(index_data,labels)\n",
      "print(clf_proj.score(index_data,labels))"
     ],
     "language": "python",
     "metadata": {},
     "outputs": [
      {
       "output_type": "stream",
       "stream": "stdout",
       "text": [
        "0.702\n"
       ]
      }
     ],
     "prompt_number": 60
    },
    {
     "cell_type": "code",
     "collapsed": false,
     "input": [
      "log_reg = LogisticRegression()\n",
      "log_reg.fit(tot_data,labels)\n",
      "print(log_reg.score(tot_data,labels))"
     ],
     "language": "python",
     "metadata": {},
     "outputs": [
      {
       "output_type": "stream",
       "stream": "stdout",
       "text": [
        "0.85\n"
       ]
      }
     ],
     "prompt_number": 56
    },
    {
     "cell_type": "code",
     "collapsed": false,
     "input": [
      "svm_proj = svm.SVC()\n",
      "svm_proj.fit(tot_data,labels)\n",
      "print(svm_proj.score(tot_data,labels))"
     ],
     "language": "python",
     "metadata": {},
     "outputs": [
      {
       "output_type": "stream",
       "stream": "stdout",
       "text": [
        "0.856\n"
       ]
      }
     ],
     "prompt_number": 57
    },
    {
     "cell_type": "code",
     "collapsed": false,
     "input": [
      "ran_forest = RandomForestClassifier(n_estimators=10)\n",
      "ran_forest = ran_forest.fit(tot_data,labels)\n",
      "ran_forest.score(tot_data,labels)"
     ],
     "language": "python",
     "metadata": {},
     "outputs": [
      {
       "metadata": {},
       "output_type": "pyout",
       "prompt_number": 58,
       "text": [
        "0.98399999999999999"
       ]
      }
     ],
     "prompt_number": 58
    },
    {
     "cell_type": "code",
     "collapsed": false,
     "input": [
      "# Plot a learning curve for each method for a set of test trials, 200,400,600,800,1000\n",
      "# Plot distributions for key features for blends and non-blends\n",
      "# Plot correlation plots for blends and non-blends\n",
      "# Plot clustered plot for features on blends and non-blends\n",
      "# Plot gradient descent bias on SNR images"
     ],
     "language": "python",
     "metadata": {},
     "outputs": [],
     "prompt_number": 127
    }
   ],
   "metadata": {}
  }
 ]
}