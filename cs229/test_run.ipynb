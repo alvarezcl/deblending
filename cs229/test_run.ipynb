{
 "metadata": {
  "name": "",
  "signature": "sha256:71ff5addd8722dc18365ce7b39e8294fc0833b6b3daf81a8f73c8b1f758ace70"
 },
 "nbformat": 3,
 "nbformat_minor": 0,
 "worksheets": [
  {
   "cells": [
    {
     "cell_type": "code",
     "collapsed": false,
     "input": [
      "from __future__ import division\n",
      "import Library\n",
      "import create_catalog as cc\n",
      "import compute_stats as cs\n",
      "import pandas as pd\n",
      "import numpy as np\n",
      "import matplotlib.pyplot as plt\n",
      "import os\n",
      "%matplotlib inline"
     ],
     "language": "python",
     "metadata": {},
     "outputs": [],
     "prompt_number": 1
    },
    {
     "cell_type": "code",
     "collapsed": false,
     "input": [
      "def produce_data(num_images):\n",
      "    # Obtain all the images with labels according to the constraints in cc.catalog()\n",
      "    x_len = 30; y_len = 30; pixel_scale = 0.2\n",
      "    images, labels = cc.catalog(num_images,x_len,y_len,pixel_scale)\n",
      "    # Run through each image and obtain the statistics of interest\n",
      "    data = []\n",
      "    for i in xrange(0,num_images):\n",
      "        # Obtain the label\n",
      "        label = labels[str(i)]\n",
      "        # Obtain the image\n",
      "        image = images[str(i)]\n",
      "        # Obtain the gini coefficient\n",
      "        gini_i = cs.compute_gini(image.array)\n",
      "        # Obtain the asymmetry coefficient\n",
      "        a_rms, a_abs, a_mat, a_est, a_where = cs.compute_asym(image.array,(0,0),x_len,y_len)\n",
      "        # Obtain the m-20 statistic\n",
      "        m_20, m_20_mat, m_where = cs.find_min_m20(image.array,x_len,y_len)\n",
      "        # Obtain the mm (multi-mode) statistic and the number of estimated centroids\n",
      "        regions, n_centroids, percentile = cs.compute_mm(image.array,500,2,0.150)\n",
      "        # From the above data, produce the intensity statistic\n",
      "        reg_ratio = cs.compute_reg_ratio(regions)\n",
      "        # Fix intensity\n",
      "        intensity_r = cs.compute_intensity_ratio(regions)\n",
      "        # Store the data in a vector\n",
      "        data_vec = [label,gini_i,a_est,m_20,n_centroids,reg_ratio,percentile,intensity_r]\n",
      "        data_vec = np.array(data_vec)\n",
      "        data_vec = pd.Series(data_vec,index=['label','gini_c','a_c','m_20','n_centroids','reg_ratio','percentile','intensity_r'])\n",
      "        data.append(data_vec)\n",
      "        if np.mod(i,10) == 0: print i\n",
      "    data = pd.DataFrame(data)\n",
      "    return data, images"
     ],
     "language": "python",
     "metadata": {},
     "outputs": [],
     "prompt_number": 2
    },
    {
     "cell_type": "code",
     "collapsed": false,
     "input": [
      "data, images = produce_data(1000)"
     ],
     "language": "python",
     "metadata": {},
     "outputs": [
      {
       "output_type": "stream",
       "stream": "stdout",
       "text": [
        "0\n",
        "10"
       ]
      },
      {
       "output_type": "stream",
       "stream": "stdout",
       "text": [
        "\n",
        "20"
       ]
      },
      {
       "output_type": "stream",
       "stream": "stdout",
       "text": [
        "\n",
        "30"
       ]
      },
      {
       "output_type": "stream",
       "stream": "stdout",
       "text": [
        "\n",
        "40"
       ]
      },
      {
       "output_type": "stream",
       "stream": "stdout",
       "text": [
        "\n",
        "50"
       ]
      },
      {
       "output_type": "stream",
       "stream": "stdout",
       "text": [
        "\n",
        "60"
       ]
      },
      {
       "output_type": "stream",
       "stream": "stdout",
       "text": [
        "\n",
        "70"
       ]
      },
      {
       "output_type": "stream",
       "stream": "stdout",
       "text": [
        "\n",
        "80"
       ]
      },
      {
       "output_type": "stream",
       "stream": "stdout",
       "text": [
        "\n",
        "90"
       ]
      },
      {
       "output_type": "stream",
       "stream": "stdout",
       "text": [
        "\n",
        "100"
       ]
      },
      {
       "output_type": "stream",
       "stream": "stdout",
       "text": [
        "\n",
        "110"
       ]
      },
      {
       "output_type": "stream",
       "stream": "stdout",
       "text": [
        "\n",
        "120"
       ]
      },
      {
       "output_type": "stream",
       "stream": "stdout",
       "text": [
        "\n",
        "130"
       ]
      },
      {
       "output_type": "stream",
       "stream": "stdout",
       "text": [
        "\n",
        "140"
       ]
      },
      {
       "output_type": "stream",
       "stream": "stdout",
       "text": [
        "\n",
        "150"
       ]
      },
      {
       "output_type": "stream",
       "stream": "stdout",
       "text": [
        "\n",
        "160"
       ]
      },
      {
       "output_type": "stream",
       "stream": "stdout",
       "text": [
        "\n",
        "170"
       ]
      },
      {
       "output_type": "stream",
       "stream": "stdout",
       "text": [
        "\n",
        "180"
       ]
      },
      {
       "output_type": "stream",
       "stream": "stdout",
       "text": [
        "\n",
        "190"
       ]
      },
      {
       "output_type": "stream",
       "stream": "stdout",
       "text": [
        "\n",
        "200"
       ]
      },
      {
       "output_type": "stream",
       "stream": "stdout",
       "text": [
        "\n",
        "210"
       ]
      },
      {
       "output_type": "stream",
       "stream": "stdout",
       "text": [
        "\n",
        "220"
       ]
      },
      {
       "output_type": "stream",
       "stream": "stdout",
       "text": [
        "\n",
        "230"
       ]
      },
      {
       "output_type": "stream",
       "stream": "stdout",
       "text": [
        "\n",
        "240"
       ]
      },
      {
       "output_type": "stream",
       "stream": "stdout",
       "text": [
        "\n",
        "250"
       ]
      },
      {
       "output_type": "stream",
       "stream": "stdout",
       "text": [
        "\n",
        "260"
       ]
      },
      {
       "output_type": "stream",
       "stream": "stdout",
       "text": [
        "\n",
        "270"
       ]
      },
      {
       "output_type": "stream",
       "stream": "stdout",
       "text": [
        "\n",
        "280"
       ]
      },
      {
       "output_type": "stream",
       "stream": "stdout",
       "text": [
        "\n",
        "290"
       ]
      },
      {
       "output_type": "stream",
       "stream": "stdout",
       "text": [
        "\n",
        "300"
       ]
      },
      {
       "output_type": "stream",
       "stream": "stdout",
       "text": [
        "\n",
        "310"
       ]
      },
      {
       "output_type": "stream",
       "stream": "stdout",
       "text": [
        "\n",
        "320"
       ]
      },
      {
       "output_type": "stream",
       "stream": "stdout",
       "text": [
        "\n",
        "330"
       ]
      },
      {
       "output_type": "stream",
       "stream": "stdout",
       "text": [
        "\n",
        "340"
       ]
      },
      {
       "output_type": "stream",
       "stream": "stdout",
       "text": [
        "\n",
        "350"
       ]
      },
      {
       "output_type": "stream",
       "stream": "stdout",
       "text": [
        "\n",
        "360"
       ]
      },
      {
       "output_type": "stream",
       "stream": "stdout",
       "text": [
        "\n",
        "370"
       ]
      },
      {
       "output_type": "stream",
       "stream": "stdout",
       "text": [
        "\n",
        "380"
       ]
      },
      {
       "output_type": "stream",
       "stream": "stdout",
       "text": [
        "\n",
        "390"
       ]
      },
      {
       "output_type": "stream",
       "stream": "stdout",
       "text": [
        "\n",
        "400"
       ]
      },
      {
       "output_type": "stream",
       "stream": "stdout",
       "text": [
        "\n",
        "410"
       ]
      },
      {
       "output_type": "stream",
       "stream": "stdout",
       "text": [
        "\n",
        "420"
       ]
      },
      {
       "output_type": "stream",
       "stream": "stdout",
       "text": [
        "\n",
        "430"
       ]
      },
      {
       "output_type": "stream",
       "stream": "stdout",
       "text": [
        "\n",
        "440"
       ]
      },
      {
       "output_type": "stream",
       "stream": "stdout",
       "text": [
        "\n",
        "450"
       ]
      },
      {
       "output_type": "stream",
       "stream": "stdout",
       "text": [
        "\n",
        "460"
       ]
      },
      {
       "output_type": "stream",
       "stream": "stdout",
       "text": [
        "\n",
        "470"
       ]
      },
      {
       "output_type": "stream",
       "stream": "stdout",
       "text": [
        "\n",
        "480"
       ]
      },
      {
       "output_type": "stream",
       "stream": "stdout",
       "text": [
        "\n",
        "490"
       ]
      },
      {
       "output_type": "stream",
       "stream": "stdout",
       "text": [
        "\n",
        "500"
       ]
      },
      {
       "output_type": "stream",
       "stream": "stdout",
       "text": [
        "\n",
        "510"
       ]
      },
      {
       "output_type": "stream",
       "stream": "stdout",
       "text": [
        "\n",
        "520"
       ]
      },
      {
       "output_type": "stream",
       "stream": "stdout",
       "text": [
        "\n",
        "530"
       ]
      },
      {
       "output_type": "stream",
       "stream": "stdout",
       "text": [
        "\n",
        "540"
       ]
      },
      {
       "output_type": "stream",
       "stream": "stdout",
       "text": [
        "\n",
        "550"
       ]
      },
      {
       "output_type": "stream",
       "stream": "stdout",
       "text": [
        "\n",
        "560"
       ]
      },
      {
       "output_type": "stream",
       "stream": "stdout",
       "text": [
        "\n",
        "570"
       ]
      },
      {
       "output_type": "stream",
       "stream": "stdout",
       "text": [
        "\n",
        "580"
       ]
      },
      {
       "output_type": "stream",
       "stream": "stdout",
       "text": [
        "\n",
        "590"
       ]
      },
      {
       "output_type": "stream",
       "stream": "stdout",
       "text": [
        "\n",
        "600"
       ]
      },
      {
       "output_type": "stream",
       "stream": "stdout",
       "text": [
        "\n",
        "610"
       ]
      },
      {
       "output_type": "stream",
       "stream": "stdout",
       "text": [
        "\n",
        "620"
       ]
      },
      {
       "output_type": "stream",
       "stream": "stdout",
       "text": [
        "\n",
        "630"
       ]
      },
      {
       "output_type": "stream",
       "stream": "stdout",
       "text": [
        "\n",
        "640"
       ]
      },
      {
       "output_type": "stream",
       "stream": "stdout",
       "text": [
        "\n",
        "650"
       ]
      },
      {
       "output_type": "stream",
       "stream": "stdout",
       "text": [
        "\n",
        "660"
       ]
      },
      {
       "output_type": "stream",
       "stream": "stdout",
       "text": [
        "\n",
        "670"
       ]
      },
      {
       "output_type": "stream",
       "stream": "stdout",
       "text": [
        "\n",
        "680"
       ]
      },
      {
       "output_type": "stream",
       "stream": "stdout",
       "text": [
        "\n",
        "690"
       ]
      },
      {
       "output_type": "stream",
       "stream": "stdout",
       "text": [
        "\n",
        "700"
       ]
      },
      {
       "output_type": "stream",
       "stream": "stdout",
       "text": [
        "\n",
        "710"
       ]
      },
      {
       "output_type": "stream",
       "stream": "stdout",
       "text": [
        "\n",
        "720"
       ]
      },
      {
       "output_type": "stream",
       "stream": "stdout",
       "text": [
        "\n",
        "730"
       ]
      },
      {
       "output_type": "stream",
       "stream": "stdout",
       "text": [
        "\n",
        "740"
       ]
      },
      {
       "output_type": "stream",
       "stream": "stdout",
       "text": [
        "\n",
        "750"
       ]
      },
      {
       "output_type": "stream",
       "stream": "stdout",
       "text": [
        "\n",
        "760"
       ]
      },
      {
       "output_type": "stream",
       "stream": "stdout",
       "text": [
        "\n",
        "770"
       ]
      },
      {
       "output_type": "stream",
       "stream": "stdout",
       "text": [
        "\n",
        "780"
       ]
      },
      {
       "output_type": "stream",
       "stream": "stdout",
       "text": [
        "\n",
        "790"
       ]
      },
      {
       "output_type": "stream",
       "stream": "stdout",
       "text": [
        "\n",
        "800"
       ]
      },
      {
       "output_type": "stream",
       "stream": "stdout",
       "text": [
        "\n",
        "810"
       ]
      },
      {
       "output_type": "stream",
       "stream": "stdout",
       "text": [
        "\n",
        "820"
       ]
      },
      {
       "output_type": "stream",
       "stream": "stdout",
       "text": [
        "\n",
        "830"
       ]
      },
      {
       "output_type": "stream",
       "stream": "stdout",
       "text": [
        "\n",
        "840"
       ]
      },
      {
       "output_type": "stream",
       "stream": "stdout",
       "text": [
        "\n",
        "850"
       ]
      },
      {
       "output_type": "stream",
       "stream": "stdout",
       "text": [
        "\n",
        "860"
       ]
      },
      {
       "output_type": "stream",
       "stream": "stdout",
       "text": [
        "\n",
        "870"
       ]
      },
      {
       "output_type": "stream",
       "stream": "stdout",
       "text": [
        "\n",
        "880"
       ]
      },
      {
       "output_type": "stream",
       "stream": "stdout",
       "text": [
        "\n",
        "890"
       ]
      },
      {
       "output_type": "stream",
       "stream": "stdout",
       "text": [
        "\n",
        "900"
       ]
      },
      {
       "output_type": "stream",
       "stream": "stdout",
       "text": [
        "\n",
        "910"
       ]
      },
      {
       "output_type": "stream",
       "stream": "stdout",
       "text": [
        "\n",
        "920"
       ]
      },
      {
       "output_type": "stream",
       "stream": "stdout",
       "text": [
        "\n",
        "930"
       ]
      },
      {
       "output_type": "stream",
       "stream": "stdout",
       "text": [
        "\n",
        "940"
       ]
      },
      {
       "output_type": "stream",
       "stream": "stdout",
       "text": [
        "\n",
        "950"
       ]
      },
      {
       "output_type": "stream",
       "stream": "stdout",
       "text": [
        "\n",
        "960"
       ]
      },
      {
       "output_type": "stream",
       "stream": "stdout",
       "text": [
        "\n",
        "970"
       ]
      },
      {
       "output_type": "stream",
       "stream": "stdout",
       "text": [
        "\n",
        "980"
       ]
      },
      {
       "output_type": "stream",
       "stream": "stdout",
       "text": [
        "\n",
        "990"
       ]
      },
      {
       "output_type": "stream",
       "stream": "stdout",
       "text": [
        "\n"
       ]
      }
     ],
     "prompt_number": 7
    },
    {
     "cell_type": "code",
     "collapsed": false,
     "input": [
      "data"
     ],
     "language": "python",
     "metadata": {},
     "outputs": [
      {
       "html": [
        "<div style=\"max-height:1000px;max-width:1500px;overflow:auto;\">\n",
        "<table border=\"1\" class=\"dataframe\">\n",
        "  <thead>\n",
        "    <tr style=\"text-align: right;\">\n",
        "      <th></th>\n",
        "      <th>label</th>\n",
        "      <th>gini_c</th>\n",
        "      <th>a_c</th>\n",
        "      <th>m_20</th>\n",
        "      <th>n_centroids</th>\n",
        "      <th>reg_ratio</th>\n",
        "      <th>percentile</th>\n",
        "      <th>intensity_r</th>\n",
        "    </tr>\n",
        "  </thead>\n",
        "  <tbody>\n",
        "    <tr>\n",
        "      <th>0  </th>\n",
        "      <td> 2</td>\n",
        "      <td> 0.695052</td>\n",
        "      <td> 0.155347</td>\n",
        "      <td>-2.164306</td>\n",
        "      <td> 3</td>\n",
        "      <td> 1.000000</td>\n",
        "      <td> 0.576954</td>\n",
        "      <td> 0.033980</td>\n",
        "    </tr>\n",
        "    <tr>\n",
        "      <th>1  </th>\n",
        "      <td> 1</td>\n",
        "      <td> 0.834011</td>\n",
        "      <td> 0.186850</td>\n",
        "      <td>-4.248643</td>\n",
        "      <td> 2</td>\n",
        "      <td> 0.500000</td>\n",
        "      <td> 0.684269</td>\n",
        "      <td> 0.357536</td>\n",
        "    </tr>\n",
        "    <tr>\n",
        "      <th>2  </th>\n",
        "      <td> 2</td>\n",
        "      <td> 0.775512</td>\n",
        "      <td> 0.263581</td>\n",
        "      <td>-3.591249</td>\n",
        "      <td> 3</td>\n",
        "      <td> 1.000000</td>\n",
        "      <td> 0.757515</td>\n",
        "      <td> 0.147181</td>\n",
        "    </tr>\n",
        "    <tr>\n",
        "      <th>3  </th>\n",
        "      <td> 2</td>\n",
        "      <td> 0.742373</td>\n",
        "      <td> 0.332573</td>\n",
        "      <td>-1.970874</td>\n",
        "      <td> 2</td>\n",
        "      <td> 0.333333</td>\n",
        "      <td> 0.568437</td>\n",
        "      <td> 0.244413</td>\n",
        "    </tr>\n",
        "    <tr>\n",
        "      <th>4  </th>\n",
        "      <td> 1</td>\n",
        "      <td> 0.760401</td>\n",
        "      <td> 0.141613</td>\n",
        "      <td>-4.550481</td>\n",
        "      <td> 1</td>\n",
        "      <td> 0.000000</td>\n",
        "      <td> 0.950000</td>\n",
        "      <td> 0.000000</td>\n",
        "    </tr>\n",
        "    <tr>\n",
        "      <th>5  </th>\n",
        "      <td> 1</td>\n",
        "      <td> 0.857532</td>\n",
        "      <td> 0.161116</td>\n",
        "      <td>-4.128382</td>\n",
        "      <td> 1</td>\n",
        "      <td> 0.000000</td>\n",
        "      <td> 0.950000</td>\n",
        "      <td> 0.000000</td>\n",
        "    </tr>\n",
        "    <tr>\n",
        "      <th>6  </th>\n",
        "      <td> 1</td>\n",
        "      <td> 0.788005</td>\n",
        "      <td> 0.106260</td>\n",
        "      <td>-4.001771</td>\n",
        "      <td> 1</td>\n",
        "      <td> 0.000000</td>\n",
        "      <td> 0.950000</td>\n",
        "      <td> 0.000000</td>\n",
        "    </tr>\n",
        "    <tr>\n",
        "      <th>7  </th>\n",
        "      <td> 3</td>\n",
        "      <td> 0.699219</td>\n",
        "      <td> 0.270757</td>\n",
        "      <td>-2.763180</td>\n",
        "      <td> 3</td>\n",
        "      <td> 1.000000</td>\n",
        "      <td> 0.500301</td>\n",
        "      <td> 0.066940</td>\n",
        "    </tr>\n",
        "    <tr>\n",
        "      <th>8  </th>\n",
        "      <td> 1</td>\n",
        "      <td> 0.840552</td>\n",
        "      <td> 0.109928</td>\n",
        "      <td>-4.527628</td>\n",
        "      <td> 1</td>\n",
        "      <td> 0.000000</td>\n",
        "      <td> 0.950000</td>\n",
        "      <td> 0.000000</td>\n",
        "    </tr>\n",
        "    <tr>\n",
        "      <th>9  </th>\n",
        "      <td> 2</td>\n",
        "      <td> 0.602610</td>\n",
        "      <td> 0.278343</td>\n",
        "      <td>-2.834955</td>\n",
        "      <td> 2</td>\n",
        "      <td> 0.125000</td>\n",
        "      <td> 0.720040</td>\n",
        "      <td> 0.103966</td>\n",
        "    </tr>\n",
        "    <tr>\n",
        "      <th>10 </th>\n",
        "      <td> 1</td>\n",
        "      <td> 0.774545</td>\n",
        "      <td> 0.130627</td>\n",
        "      <td>-4.886494</td>\n",
        "      <td> 1</td>\n",
        "      <td> 0.000000</td>\n",
        "      <td> 0.950000</td>\n",
        "      <td> 0.000000</td>\n",
        "    </tr>\n",
        "    <tr>\n",
        "      <th>11 </th>\n",
        "      <td> 1</td>\n",
        "      <td> 0.694872</td>\n",
        "      <td> 0.096121</td>\n",
        "      <td>-4.717095</td>\n",
        "      <td> 2</td>\n",
        "      <td> 1.000000</td>\n",
        "      <td> 0.720040</td>\n",
        "      <td> 0.720137</td>\n",
        "    </tr>\n",
        "    <tr>\n",
        "      <th>12 </th>\n",
        "      <td> 3</td>\n",
        "      <td> 0.700708</td>\n",
        "      <td> 0.297464</td>\n",
        "      <td>-3.607926</td>\n",
        "      <td> 2</td>\n",
        "      <td> 0.031250</td>\n",
        "      <td> 0.215832</td>\n",
        "      <td> 0.016934</td>\n",
        "    </tr>\n",
        "    <tr>\n",
        "      <th>13 </th>\n",
        "      <td> 1</td>\n",
        "      <td> 0.785681</td>\n",
        "      <td> 0.165043</td>\n",
        "      <td>-4.080603</td>\n",
        "      <td> 1</td>\n",
        "      <td> 0.000000</td>\n",
        "      <td> 0.950000</td>\n",
        "      <td> 0.000000</td>\n",
        "    </tr>\n",
        "    <tr>\n",
        "      <th>14 </th>\n",
        "      <td> 1</td>\n",
        "      <td> 0.754993</td>\n",
        "      <td> 0.054490</td>\n",
        "      <td>-3.947983</td>\n",
        "      <td> 2</td>\n",
        "      <td> 0.500000</td>\n",
        "      <td> 0.950000</td>\n",
        "      <td> 0.486606</td>\n",
        "    </tr>\n",
        "    <tr>\n",
        "      <th>15 </th>\n",
        "      <td> 1</td>\n",
        "      <td> 0.783004</td>\n",
        "      <td> 0.221188</td>\n",
        "      <td>-3.698672</td>\n",
        "      <td> 1</td>\n",
        "      <td> 0.000000</td>\n",
        "      <td> 0.950000</td>\n",
        "      <td> 0.000000</td>\n",
        "    </tr>\n",
        "    <tr>\n",
        "      <th>16 </th>\n",
        "      <td> 3</td>\n",
        "      <td> 0.779186</td>\n",
        "      <td> 0.342174</td>\n",
        "      <td>-1.981355</td>\n",
        "      <td> 2</td>\n",
        "      <td> 1.000000</td>\n",
        "      <td> 0.880160</td>\n",
        "      <td> 0.880761</td>\n",
        "    </tr>\n",
        "    <tr>\n",
        "      <th>17 </th>\n",
        "      <td> 1</td>\n",
        "      <td> 0.826672</td>\n",
        "      <td> 0.278259</td>\n",
        "      <td>-5.058308</td>\n",
        "      <td> 1</td>\n",
        "      <td> 0.000000</td>\n",
        "      <td> 0.950000</td>\n",
        "      <td> 0.000000</td>\n",
        "    </tr>\n",
        "    <tr>\n",
        "      <th>18 </th>\n",
        "      <td> 3</td>\n",
        "      <td> 0.670113</td>\n",
        "      <td> 0.154868</td>\n",
        "      <td>-3.496893</td>\n",
        "      <td> 3</td>\n",
        "      <td> 1.000000</td>\n",
        "      <td> 0.946593</td>\n",
        "      <td> 0.484540</td>\n",
        "    </tr>\n",
        "    <tr>\n",
        "      <th>19 </th>\n",
        "      <td> 1</td>\n",
        "      <td> 0.913922</td>\n",
        "      <td> 0.155949</td>\n",
        "      <td>-4.429159</td>\n",
        "      <td> 2</td>\n",
        "      <td> 0.200000</td>\n",
        "      <td> 0.554810</td>\n",
        "      <td> 0.138059</td>\n",
        "    </tr>\n",
        "    <tr>\n",
        "      <th>20 </th>\n",
        "      <td> 1</td>\n",
        "      <td> 0.898293</td>\n",
        "      <td> 0.074351</td>\n",
        "      <td>-4.719059</td>\n",
        "      <td> 2</td>\n",
        "      <td> 1.000000</td>\n",
        "      <td> 0.895491</td>\n",
        "      <td> 0.896401</td>\n",
        "    </tr>\n",
        "    <tr>\n",
        "      <th>21 </th>\n",
        "      <td> 2</td>\n",
        "      <td> 0.659230</td>\n",
        "      <td> 0.286973</td>\n",
        "      <td>-3.414951</td>\n",
        "      <td> 3</td>\n",
        "      <td> 1.000000</td>\n",
        "      <td> 0.561623</td>\n",
        "      <td> 0.102055</td>\n",
        "    </tr>\n",
        "    <tr>\n",
        "      <th>22 </th>\n",
        "      <td> 1</td>\n",
        "      <td> 0.746498</td>\n",
        "      <td> 0.128158</td>\n",
        "      <td>-4.647779</td>\n",
        "      <td> 1</td>\n",
        "      <td> 0.000000</td>\n",
        "      <td> 0.950000</td>\n",
        "      <td> 0.000000</td>\n",
        "    </tr>\n",
        "    <tr>\n",
        "      <th>23 </th>\n",
        "      <td> 1</td>\n",
        "      <td> 0.783877</td>\n",
        "      <td> 0.083912</td>\n",
        "      <td>-3.974246</td>\n",
        "      <td> 1</td>\n",
        "      <td> 0.000000</td>\n",
        "      <td> 0.950000</td>\n",
        "      <td> 0.000000</td>\n",
        "    </tr>\n",
        "    <tr>\n",
        "      <th>24 </th>\n",
        "      <td> 1</td>\n",
        "      <td> 0.862649</td>\n",
        "      <td> 0.196059</td>\n",
        "      <td>-5.200630</td>\n",
        "      <td> 1</td>\n",
        "      <td> 0.000000</td>\n",
        "      <td> 0.950000</td>\n",
        "      <td> 0.000000</td>\n",
        "    </tr>\n",
        "    <tr>\n",
        "      <th>25 </th>\n",
        "      <td> 3</td>\n",
        "      <td> 0.634240</td>\n",
        "      <td> 0.255089</td>\n",
        "      <td>-1.999888</td>\n",
        "      <td> 4</td>\n",
        "      <td> 1.000000</td>\n",
        "      <td> 0.457715</td>\n",
        "      <td> 0.205003</td>\n",
        "    </tr>\n",
        "    <tr>\n",
        "      <th>26 </th>\n",
        "      <td> 2</td>\n",
        "      <td> 0.785112</td>\n",
        "      <td> 0.251058</td>\n",
        "      <td>-2.979580</td>\n",
        "      <td> 2</td>\n",
        "      <td> 0.125000</td>\n",
        "      <td> 0.822244</td>\n",
        "      <td> 0.110470</td>\n",
        "    </tr>\n",
        "    <tr>\n",
        "      <th>27 </th>\n",
        "      <td> 1</td>\n",
        "      <td> 0.890199</td>\n",
        "      <td> 0.142310</td>\n",
        "      <td>-4.622855</td>\n",
        "      <td> 1</td>\n",
        "      <td> 0.000000</td>\n",
        "      <td> 0.950000</td>\n",
        "      <td> 0.000000</td>\n",
        "    </tr>\n",
        "    <tr>\n",
        "      <th>28 </th>\n",
        "      <td> 1</td>\n",
        "      <td> 0.814982</td>\n",
        "      <td> 0.124676</td>\n",
        "      <td>-4.372445</td>\n",
        "      <td> 1</td>\n",
        "      <td> 0.000000</td>\n",
        "      <td> 0.950000</td>\n",
        "      <td> 0.000000</td>\n",
        "    </tr>\n",
        "    <tr>\n",
        "      <th>29 </th>\n",
        "      <td> 3</td>\n",
        "      <td> 0.693769</td>\n",
        "      <td> 0.351256</td>\n",
        "      <td>-2.559773</td>\n",
        "      <td> 3</td>\n",
        "      <td> 1.000000</td>\n",
        "      <td> 0.849499</td>\n",
        "      <td> 0.849674</td>\n",
        "    </tr>\n",
        "    <tr>\n",
        "      <th>...</th>\n",
        "      <td>...</td>\n",
        "      <td>...</td>\n",
        "      <td>...</td>\n",
        "      <td>...</td>\n",
        "      <td>...</td>\n",
        "      <td>...</td>\n",
        "      <td>...</td>\n",
        "      <td>...</td>\n",
        "    </tr>\n",
        "    <tr>\n",
        "      <th>970</th>\n",
        "      <td> 2</td>\n",
        "      <td> 0.813247</td>\n",
        "      <td> 0.322883</td>\n",
        "      <td>-2.405258</td>\n",
        "      <td> 3</td>\n",
        "      <td> 1.000000</td>\n",
        "      <td> 0.484970</td>\n",
        "      <td> 0.048048</td>\n",
        "    </tr>\n",
        "    <tr>\n",
        "      <th>971</th>\n",
        "      <td> 3</td>\n",
        "      <td> 0.741321</td>\n",
        "      <td> 0.315004</td>\n",
        "      <td>-3.184328</td>\n",
        "      <td> 3</td>\n",
        "      <td> 1.000000</td>\n",
        "      <td> 0.243086</td>\n",
        "      <td> 0.025963</td>\n",
        "    </tr>\n",
        "    <tr>\n",
        "      <th>972</th>\n",
        "      <td> 3</td>\n",
        "      <td> 0.768918</td>\n",
        "      <td> 0.371472</td>\n",
        "      <td>-1.930839</td>\n",
        "      <td> 3</td>\n",
        "      <td> 1.000000</td>\n",
        "      <td> 0.743888</td>\n",
        "      <td> 0.381249</td>\n",
        "    </tr>\n",
        "    <tr>\n",
        "      <th>973</th>\n",
        "      <td> 1</td>\n",
        "      <td> 0.802828</td>\n",
        "      <td> 0.061368</td>\n",
        "      <td>-4.115529</td>\n",
        "      <td> 2</td>\n",
        "      <td> 0.500000</td>\n",
        "      <td> 0.950000</td>\n",
        "      <td> 0.507742</td>\n",
        "    </tr>\n",
        "    <tr>\n",
        "      <th>974</th>\n",
        "      <td> 3</td>\n",
        "      <td> 0.714258</td>\n",
        "      <td> 0.331078</td>\n",
        "      <td>-2.722280</td>\n",
        "      <td> 3</td>\n",
        "      <td> 1.000000</td>\n",
        "      <td> 0.576954</td>\n",
        "      <td> 0.221565</td>\n",
        "    </tr>\n",
        "    <tr>\n",
        "      <th>975</th>\n",
        "      <td> 1</td>\n",
        "      <td> 0.824580</td>\n",
        "      <td> 0.074535</td>\n",
        "      <td>-3.471731</td>\n",
        "      <td> 1</td>\n",
        "      <td> 0.000000</td>\n",
        "      <td> 0.950000</td>\n",
        "      <td> 0.000000</td>\n",
        "    </tr>\n",
        "    <tr>\n",
        "      <th>976</th>\n",
        "      <td> 2</td>\n",
        "      <td> 0.776193</td>\n",
        "      <td> 0.368148</td>\n",
        "      <td>-2.131655</td>\n",
        "      <td> 2</td>\n",
        "      <td> 1.000000</td>\n",
        "      <td> 0.919339</td>\n",
        "      <td> 0.919959</td>\n",
        "    </tr>\n",
        "    <tr>\n",
        "      <th>977</th>\n",
        "      <td> 1</td>\n",
        "      <td> 0.732589</td>\n",
        "      <td> 0.126829</td>\n",
        "      <td>-4.172541</td>\n",
        "      <td> 1</td>\n",
        "      <td> 0.000000</td>\n",
        "      <td> 0.950000</td>\n",
        "      <td> 0.000000</td>\n",
        "    </tr>\n",
        "    <tr>\n",
        "      <th>978</th>\n",
        "      <td> 1</td>\n",
        "      <td> 0.730759</td>\n",
        "      <td> 0.105822</td>\n",
        "      <td>-4.474091</td>\n",
        "      <td> 1</td>\n",
        "      <td> 0.000000</td>\n",
        "      <td> 0.950000</td>\n",
        "      <td> 0.000000</td>\n",
        "    </tr>\n",
        "    <tr>\n",
        "      <th>979</th>\n",
        "      <td> 3</td>\n",
        "      <td> 0.677176</td>\n",
        "      <td> 0.267856</td>\n",
        "      <td>-3.526398</td>\n",
        "      <td> 2</td>\n",
        "      <td> 1.000000</td>\n",
        "      <td> 0.880160</td>\n",
        "      <td> 0.881274</td>\n",
        "    </tr>\n",
        "    <tr>\n",
        "      <th>980</th>\n",
        "      <td> 3</td>\n",
        "      <td> 0.676620</td>\n",
        "      <td> 0.418281</td>\n",
        "      <td>-2.633184</td>\n",
        "      <td> 4</td>\n",
        "      <td> 1.000000</td>\n",
        "      <td> 0.481563</td>\n",
        "      <td> 0.118067</td>\n",
        "    </tr>\n",
        "    <tr>\n",
        "      <th>981</th>\n",
        "      <td> 2</td>\n",
        "      <td> 0.842841</td>\n",
        "      <td> 0.236946</td>\n",
        "      <td>-3.848633</td>\n",
        "      <td> 2</td>\n",
        "      <td> 0.500000</td>\n",
        "      <td> 0.929559</td>\n",
        "      <td> 0.473100</td>\n",
        "    </tr>\n",
        "    <tr>\n",
        "      <th>982</th>\n",
        "      <td> 1</td>\n",
        "      <td> 0.872158</td>\n",
        "      <td> 0.077569</td>\n",
        "      <td>-4.817892</td>\n",
        "      <td> 2</td>\n",
        "      <td> 1.000000</td>\n",
        "      <td> 0.854609</td>\n",
        "      <td> 0.854962</td>\n",
        "    </tr>\n",
        "    <tr>\n",
        "      <th>983</th>\n",
        "      <td> 3</td>\n",
        "      <td> 0.589660</td>\n",
        "      <td> 0.262050</td>\n",
        "      <td>-2.091568</td>\n",
        "      <td> 3</td>\n",
        "      <td> 1.000000</td>\n",
        "      <td> 0.556513</td>\n",
        "      <td> 0.031063</td>\n",
        "    </tr>\n",
        "    <tr>\n",
        "      <th>984</th>\n",
        "      <td> 1</td>\n",
        "      <td> 0.851797</td>\n",
        "      <td> 0.147324</td>\n",
        "      <td>-4.104121</td>\n",
        "      <td> 1</td>\n",
        "      <td> 0.000000</td>\n",
        "      <td> 0.950000</td>\n",
        "      <td> 0.000000</td>\n",
        "    </tr>\n",
        "    <tr>\n",
        "      <th>985</th>\n",
        "      <td> 3</td>\n",
        "      <td> 0.632676</td>\n",
        "      <td> 0.233482</td>\n",
        "      <td>-3.039547</td>\n",
        "      <td> 3</td>\n",
        "      <td> 1.000000</td>\n",
        "      <td> 0.565030</td>\n",
        "      <td> 0.059031</td>\n",
        "    </tr>\n",
        "    <tr>\n",
        "      <th>986</th>\n",
        "      <td> 3</td>\n",
        "      <td> 0.640693</td>\n",
        "      <td> 0.277446</td>\n",
        "      <td>-3.027770</td>\n",
        "      <td> 3</td>\n",
        "      <td> 1.000000</td>\n",
        "      <td> 0.839279</td>\n",
        "      <td> 0.076778</td>\n",
        "    </tr>\n",
        "    <tr>\n",
        "      <th>987</th>\n",
        "      <td> 1</td>\n",
        "      <td> 0.779240</td>\n",
        "      <td> 0.059704</td>\n",
        "      <td>-4.405553</td>\n",
        "      <td> 1</td>\n",
        "      <td> 0.000000</td>\n",
        "      <td> 0.950000</td>\n",
        "      <td> 0.000000</td>\n",
        "    </tr>\n",
        "    <tr>\n",
        "      <th>988</th>\n",
        "      <td> 2</td>\n",
        "      <td> 0.837346</td>\n",
        "      <td> 0.261578</td>\n",
        "      <td>-3.878915</td>\n",
        "      <td> 2</td>\n",
        "      <td> 0.071429</td>\n",
        "      <td> 0.660421</td>\n",
        "      <td> 0.058059</td>\n",
        "    </tr>\n",
        "    <tr>\n",
        "      <th>989</th>\n",
        "      <td> 2</td>\n",
        "      <td> 0.693096</td>\n",
        "      <td> 0.157871</td>\n",
        "      <td>-3.922830</td>\n",
        "      <td> 2</td>\n",
        "      <td> 0.500000</td>\n",
        "      <td> 0.909118</td>\n",
        "      <td> 0.472016</td>\n",
        "    </tr>\n",
        "    <tr>\n",
        "      <th>990</th>\n",
        "      <td> 3</td>\n",
        "      <td> 0.757415</td>\n",
        "      <td> 0.226194</td>\n",
        "      <td>-3.775450</td>\n",
        "      <td> 2</td>\n",
        "      <td> 1.000000</td>\n",
        "      <td> 0.948297</td>\n",
        "      <td> 0.949295</td>\n",
        "    </tr>\n",
        "    <tr>\n",
        "      <th>991</th>\n",
        "      <td> 1</td>\n",
        "      <td> 0.913510</td>\n",
        "      <td> 0.170831</td>\n",
        "      <td>-4.666794</td>\n",
        "      <td> 1</td>\n",
        "      <td> 0.000000</td>\n",
        "      <td> 0.950000</td>\n",
        "      <td> 0.000000</td>\n",
        "    </tr>\n",
        "    <tr>\n",
        "      <th>992</th>\n",
        "      <td> 3</td>\n",
        "      <td> 0.694999</td>\n",
        "      <td> 0.203914</td>\n",
        "      <td>-2.862902</td>\n",
        "      <td> 3</td>\n",
        "      <td> 1.000000</td>\n",
        "      <td> 0.484970</td>\n",
        "      <td> 0.025150</td>\n",
        "    </tr>\n",
        "    <tr>\n",
        "      <th>993</th>\n",
        "      <td> 3</td>\n",
        "      <td> 0.792490</td>\n",
        "      <td> 0.216169</td>\n",
        "      <td>-3.068015</td>\n",
        "      <td> 2</td>\n",
        "      <td> 0.058824</td>\n",
        "      <td> 0.580361</td>\n",
        "      <td> 0.045997</td>\n",
        "    </tr>\n",
        "    <tr>\n",
        "      <th>994</th>\n",
        "      <td> 1</td>\n",
        "      <td> 0.886471</td>\n",
        "      <td> 0.201201</td>\n",
        "      <td>-4.699236</td>\n",
        "      <td> 1</td>\n",
        "      <td> 0.000000</td>\n",
        "      <td> 0.950000</td>\n",
        "      <td> 0.000000</td>\n",
        "    </tr>\n",
        "    <tr>\n",
        "      <th>995</th>\n",
        "      <td> 2</td>\n",
        "      <td> 0.647374</td>\n",
        "      <td> 0.216260</td>\n",
        "      <td>-2.706005</td>\n",
        "      <td> 3</td>\n",
        "      <td> 1.000000</td>\n",
        "      <td> 0.355511</td>\n",
        "      <td> 0.032078</td>\n",
        "    </tr>\n",
        "    <tr>\n",
        "      <th>996</th>\n",
        "      <td> 2</td>\n",
        "      <td> 0.766122</td>\n",
        "      <td> 0.154957</td>\n",
        "      <td>-3.638120</td>\n",
        "      <td> 1</td>\n",
        "      <td> 0.000000</td>\n",
        "      <td> 0.950000</td>\n",
        "      <td> 0.000000</td>\n",
        "    </tr>\n",
        "    <tr>\n",
        "      <th>997</th>\n",
        "      <td> 3</td>\n",
        "      <td> 0.632201</td>\n",
        "      <td> 0.274226</td>\n",
        "      <td>-3.316200</td>\n",
        "      <td> 3</td>\n",
        "      <td> 1.000000</td>\n",
        "      <td> 0.459419</td>\n",
        "      <td> 0.022900</td>\n",
        "    </tr>\n",
        "    <tr>\n",
        "      <th>998</th>\n",
        "      <td> 3</td>\n",
        "      <td> 0.716262</td>\n",
        "      <td> 0.177623</td>\n",
        "      <td>-2.957268</td>\n",
        "      <td> 2</td>\n",
        "      <td> 0.500000</td>\n",
        "      <td> 0.587174</td>\n",
        "      <td> 0.301758</td>\n",
        "    </tr>\n",
        "    <tr>\n",
        "      <th>999</th>\n",
        "      <td> 1</td>\n",
        "      <td> 0.799927</td>\n",
        "      <td> 0.130102</td>\n",
        "      <td>-4.919130</td>\n",
        "      <td> 2</td>\n",
        "      <td> 1.000000</td>\n",
        "      <td> 0.721743</td>\n",
        "      <td> 0.723006</td>\n",
        "    </tr>\n",
        "  </tbody>\n",
        "</table>\n",
        "<p>1000 rows \u00d7 8 columns</p>\n",
        "</div>"
       ],
       "metadata": {},
       "output_type": "pyout",
       "prompt_number": 8,
       "text": [
        "     label    gini_c       a_c      m_20  n_centroids  reg_ratio  percentile  \\\n",
        "0        2  0.695052  0.155347 -2.164306            3   1.000000    0.576954   \n",
        "1        1  0.834011  0.186850 -4.248643            2   0.500000    0.684269   \n",
        "2        2  0.775512  0.263581 -3.591249            3   1.000000    0.757515   \n",
        "3        2  0.742373  0.332573 -1.970874            2   0.333333    0.568437   \n",
        "4        1  0.760401  0.141613 -4.550481            1   0.000000    0.950000   \n",
        "5        1  0.857532  0.161116 -4.128382            1   0.000000    0.950000   \n",
        "6        1  0.788005  0.106260 -4.001771            1   0.000000    0.950000   \n",
        "7        3  0.699219  0.270757 -2.763180            3   1.000000    0.500301   \n",
        "8        1  0.840552  0.109928 -4.527628            1   0.000000    0.950000   \n",
        "9        2  0.602610  0.278343 -2.834955            2   0.125000    0.720040   \n",
        "10       1  0.774545  0.130627 -4.886494            1   0.000000    0.950000   \n",
        "11       1  0.694872  0.096121 -4.717095            2   1.000000    0.720040   \n",
        "12       3  0.700708  0.297464 -3.607926            2   0.031250    0.215832   \n",
        "13       1  0.785681  0.165043 -4.080603            1   0.000000    0.950000   \n",
        "14       1  0.754993  0.054490 -3.947983            2   0.500000    0.950000   \n",
        "15       1  0.783004  0.221188 -3.698672            1   0.000000    0.950000   \n",
        "16       3  0.779186  0.342174 -1.981355            2   1.000000    0.880160   \n",
        "17       1  0.826672  0.278259 -5.058308            1   0.000000    0.950000   \n",
        "18       3  0.670113  0.154868 -3.496893            3   1.000000    0.946593   \n",
        "19       1  0.913922  0.155949 -4.429159            2   0.200000    0.554810   \n",
        "20       1  0.898293  0.074351 -4.719059            2   1.000000    0.895491   \n",
        "21       2  0.659230  0.286973 -3.414951            3   1.000000    0.561623   \n",
        "22       1  0.746498  0.128158 -4.647779            1   0.000000    0.950000   \n",
        "23       1  0.783877  0.083912 -3.974246            1   0.000000    0.950000   \n",
        "24       1  0.862649  0.196059 -5.200630            1   0.000000    0.950000   \n",
        "25       3  0.634240  0.255089 -1.999888            4   1.000000    0.457715   \n",
        "26       2  0.785112  0.251058 -2.979580            2   0.125000    0.822244   \n",
        "27       1  0.890199  0.142310 -4.622855            1   0.000000    0.950000   \n",
        "28       1  0.814982  0.124676 -4.372445            1   0.000000    0.950000   \n",
        "29       3  0.693769  0.351256 -2.559773            3   1.000000    0.849499   \n",
        "..     ...       ...       ...       ...          ...        ...         ...   \n",
        "970      2  0.813247  0.322883 -2.405258            3   1.000000    0.484970   \n",
        "971      3  0.741321  0.315004 -3.184328            3   1.000000    0.243086   \n",
        "972      3  0.768918  0.371472 -1.930839            3   1.000000    0.743888   \n",
        "973      1  0.802828  0.061368 -4.115529            2   0.500000    0.950000   \n",
        "974      3  0.714258  0.331078 -2.722280            3   1.000000    0.576954   \n",
        "975      1  0.824580  0.074535 -3.471731            1   0.000000    0.950000   \n",
        "976      2  0.776193  0.368148 -2.131655            2   1.000000    0.919339   \n",
        "977      1  0.732589  0.126829 -4.172541            1   0.000000    0.950000   \n",
        "978      1  0.730759  0.105822 -4.474091            1   0.000000    0.950000   \n",
        "979      3  0.677176  0.267856 -3.526398            2   1.000000    0.880160   \n",
        "980      3  0.676620  0.418281 -2.633184            4   1.000000    0.481563   \n",
        "981      2  0.842841  0.236946 -3.848633            2   0.500000    0.929559   \n",
        "982      1  0.872158  0.077569 -4.817892            2   1.000000    0.854609   \n",
        "983      3  0.589660  0.262050 -2.091568            3   1.000000    0.556513   \n",
        "984      1  0.851797  0.147324 -4.104121            1   0.000000    0.950000   \n",
        "985      3  0.632676  0.233482 -3.039547            3   1.000000    0.565030   \n",
        "986      3  0.640693  0.277446 -3.027770            3   1.000000    0.839279   \n",
        "987      1  0.779240  0.059704 -4.405553            1   0.000000    0.950000   \n",
        "988      2  0.837346  0.261578 -3.878915            2   0.071429    0.660421   \n",
        "989      2  0.693096  0.157871 -3.922830            2   0.500000    0.909118   \n",
        "990      3  0.757415  0.226194 -3.775450            2   1.000000    0.948297   \n",
        "991      1  0.913510  0.170831 -4.666794            1   0.000000    0.950000   \n",
        "992      3  0.694999  0.203914 -2.862902            3   1.000000    0.484970   \n",
        "993      3  0.792490  0.216169 -3.068015            2   0.058824    0.580361   \n",
        "994      1  0.886471  0.201201 -4.699236            1   0.000000    0.950000   \n",
        "995      2  0.647374  0.216260 -2.706005            3   1.000000    0.355511   \n",
        "996      2  0.766122  0.154957 -3.638120            1   0.000000    0.950000   \n",
        "997      3  0.632201  0.274226 -3.316200            3   1.000000    0.459419   \n",
        "998      3  0.716262  0.177623 -2.957268            2   0.500000    0.587174   \n",
        "999      1  0.799927  0.130102 -4.919130            2   1.000000    0.721743   \n",
        "\n",
        "     intensity_r  \n",
        "0       0.033980  \n",
        "1       0.357536  \n",
        "2       0.147181  \n",
        "3       0.244413  \n",
        "4       0.000000  \n",
        "5       0.000000  \n",
        "6       0.000000  \n",
        "7       0.066940  \n",
        "8       0.000000  \n",
        "9       0.103966  \n",
        "10      0.000000  \n",
        "11      0.720137  \n",
        "12      0.016934  \n",
        "13      0.000000  \n",
        "14      0.486606  \n",
        "15      0.000000  \n",
        "16      0.880761  \n",
        "17      0.000000  \n",
        "18      0.484540  \n",
        "19      0.138059  \n",
        "20      0.896401  \n",
        "21      0.102055  \n",
        "22      0.000000  \n",
        "23      0.000000  \n",
        "24      0.000000  \n",
        "25      0.205003  \n",
        "26      0.110470  \n",
        "27      0.000000  \n",
        "28      0.000000  \n",
        "29      0.849674  \n",
        "..           ...  \n",
        "970     0.048048  \n",
        "971     0.025963  \n",
        "972     0.381249  \n",
        "973     0.507742  \n",
        "974     0.221565  \n",
        "975     0.000000  \n",
        "976     0.919959  \n",
        "977     0.000000  \n",
        "978     0.000000  \n",
        "979     0.881274  \n",
        "980     0.118067  \n",
        "981     0.473100  \n",
        "982     0.854962  \n",
        "983     0.031063  \n",
        "984     0.000000  \n",
        "985     0.059031  \n",
        "986     0.076778  \n",
        "987     0.000000  \n",
        "988     0.058059  \n",
        "989     0.472016  \n",
        "990     0.949295  \n",
        "991     0.000000  \n",
        "992     0.025150  \n",
        "993     0.045997  \n",
        "994     0.000000  \n",
        "995     0.032078  \n",
        "996     0.000000  \n",
        "997     0.022900  \n",
        "998     0.301758  \n",
        "999     0.723006  \n",
        "\n",
        "[1000 rows x 8 columns]"
       ]
      }
     ],
     "prompt_number": 8
    },
    {
     "cell_type": "code",
     "collapsed": false,
     "input": [
      "blend = np.copy(data['label']);blend[blend==1] = 0;blend[blend>0]=1\n",
      "estim = np.copy(data['n_centroids']);estim[estim==1] = 0;estim[estim>1] = 1\n",
      "error = sum(np.abs(blend-estim))/len(blend)\n",
      "error"
     ],
     "language": "python",
     "metadata": {},
     "outputs": [
      {
       "metadata": {},
       "output_type": "pyout",
       "prompt_number": 9,
       "text": [
        "0.221"
       ]
      }
     ],
     "prompt_number": 9
    },
    {
     "cell_type": "code",
     "collapsed": false,
     "input": [
      "filename = 'test_random_n.csv'\n",
      "with open(filename,'a') as f:\n",
      "    if os.stat(filename)[6] == 0:\n",
      "        # If the file is empty, put the header.\n",
      "        data.to_csv(f)\n",
      "    else:\n",
      "        # If the file is not empty, do not put the header in.\n",
      "        data.to_csv(f,header=False)"
     ],
     "language": "python",
     "metadata": {},
     "outputs": [],
     "prompt_number": 10
    },
    {
     "cell_type": "code",
     "collapsed": false,
     "input": [],
     "language": "python",
     "metadata": {},
     "outputs": []
    }
   ],
   "metadata": {}
  }
 ]
}