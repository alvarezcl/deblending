{
 "metadata": {
  "name": "",
  "signature": "sha256:c80f66d704aa4d42b273961c34326b086b0825d1bdb7564f67db98720a1de312"
 },
 "nbformat": 3,
 "nbformat_minor": 0,
 "worksheets": [
  {
   "cells": [
    {
     "cell_type": "code",
     "collapsed": false,
     "input": [
      "## Creates blend and non-blend and analyzes the statistics of each image.\n",
      "from __future__ import division\n",
      "import Library\n",
      "import compute_stats as cs\n",
      "import galsim\n",
      "import numpy as np\n",
      "import matplotlib.pyplot as plt\n",
      "import matplotlib.gridspec as gridspec"
     ],
     "language": "python",
     "metadata": {},
     "outputs": [],
     "prompt_number": 4
    },
    {
     "cell_type": "code",
     "collapsed": false,
     "input": [
      "# Parameters for objects\n",
      "flux_a = 75000 ; flux_b = flux_a\n",
      "hlr_a = 1 ; hlr_b = hlr_a\n",
      "e1_a = 0.1 ; e1_b = -0.2\n",
      "e2_a =-0.1 ; e2_b = -0.05\n",
      "x0_a = -1.3 ; x0_b = 2.0\n",
      "y0_a = 0 ; y0_b = 0\n",
      "peak_a = [x0_a/0.2,y0_a/0.2]; peak_b = [x0_b/0.2,y0_b/0.2] "
     ],
     "language": "python",
     "metadata": {},
     "outputs": [],
     "prompt_number": 5
    },
    {
     "cell_type": "code",
     "collapsed": false,
     "input": [
      "# Parameters for image\n",
      "x_len = y_len = 30\n",
      "# Use photon shooting\n",
      "method = 'phot'\n",
      "seed_a = galsim.BaseDeviate(1)\n",
      "seed_b = galsim.BaseDeviate(2)"
     ],
     "language": "python",
     "metadata": {},
     "outputs": [],
     "prompt_number": 6
    },
    {
     "cell_type": "code",
     "collapsed": false,
     "input": [
      "image_a = Library.create_galaxy(flux_a,hlr_a,e1_a,e2_a,x0_a,y0_a,method=method,seed=seed_a,x_len=x_len,y_len=y_len)\n",
      "image_b = Library.create_galaxy(flux_b,hlr_b,e1_b,e2_b,x0_b,y0_b,method=method,seed=seed_b,x_len=x_len,y_len=y_len)\n",
      "image_c = Library.create_galaxy(flux_b,hlr_b,e1_b,e2_b,0.5,0.5,method=method,seed=seed_b,x_len=x_len,y_len=y_len)\n",
      "image_tot = image_a + image_b + image_c"
     ],
     "language": "python",
     "metadata": {},
     "outputs": [],
     "prompt_number": 7
    },
    {
     "cell_type": "code",
     "collapsed": false,
     "input": [
      "# Compute the gini coefficients of each image and the sum\n",
      "gini_a = cs.compute_gini(image_a.array)\n",
      "gini_b = cs.compute_gini(image_b.array)\n",
      "gini_tot = cs.compute_gini(image_tot.array)"
     ],
     "language": "python",
     "metadata": {},
     "outputs": [],
     "prompt_number": 8
    },
    {
     "cell_type": "code",
     "collapsed": false,
     "input": [
      "# Compute the asymmetry coefficient for one image and the sum\n",
      "a_rms_a,a_abs_a,a_abs_mat_a,a_est_a,a_where_a = cs.compute_asym(image_a.array,peak_a,x_len,y_len)\n",
      "a_abs_mat_a = np.transpose(a_abs_mat_a)\n",
      "a_rms_tot,a_abs_tot,a_abs_mat_tot,a_est_tot,a_where_tot = cs.compute_asym(image_tot.array,peak_a,x_len,y_len)\n",
      "a_abs_mat_tot = np.transpose(a_abs_mat_tot)"
     ],
     "language": "python",
     "metadata": {},
     "outputs": [],
     "prompt_number": 9
    },
    {
     "cell_type": "code",
     "collapsed": false,
     "input": [
      "# Compute the moment of light for one image and the sum\n",
      "m_20_a,m_20_mat_a, m_where_a = cs.find_min_m20(image_a.array,x_len,y_len)\n",
      "m_20_tot,m_20_mat_tot, m_where_tot = cs.find_min_m20(image_tot.array,x_len,y_len)\n",
      "m_where_a = (m_where_a[1],m_where_a[0])\n",
      "m_where_tot = (m_where_tot[1],m_where_tot[0])"
     ],
     "language": "python",
     "metadata": {},
     "outputs": [],
     "prompt_number": 10
    },
    {
     "cell_type": "code",
     "collapsed": false,
     "input": [
      "# Compute the number of centroids\n",
      "regions_a, n_centroids_a, percentile_a = cs.compute_mm(image_a.array,1000,2,0.150)\n",
      "regions_tot, n_centroids_tot, percentile_tot = cs.compute_mm(image_tot.array,1000,2,0.350)"
     ],
     "language": "python",
     "metadata": {},
     "outputs": [],
     "prompt_number": 11
    },
    {
     "cell_type": "code",
     "collapsed": false,
     "input": [
      "gs = gridspec.GridSpec(4,2)"
     ],
     "language": "python",
     "metadata": {},
     "outputs": [],
     "prompt_number": 12
    },
    {
     "cell_type": "code",
     "collapsed": false,
     "input": [
      "# Now plot the results\n",
      "fig = plt.figure(figsize=(9,12))\n",
      "fig.set_facecolor('white')\n",
      "plt.suptitle('       Example of Observed Features',fontsize=15)\n",
      "sh = 0.8\n",
      "fs = 10\n",
      "ax1 = fig.add_subplot(gs[0,0])\n",
      "a = ax1.imshow(image_a.array,interpolation='none',origin='lower'); plt.title('Image of One Object',fontsize=fs); plt.colorbar(a,shrink=sh)\n",
      "plt.ylabel('Pixels',fontsize=fs)\n",
      "\n",
      "ax2 = fig.add_subplot(gs[0,1])\n",
      "b = ax2.imshow(image_tot.array,interpolation='none',origin='lower'); plt.title('Image of Blended Object',fontsize=fs); plt.colorbar(b,shrink=sh)\n",
      "\n",
      "ax3 = fig.add_subplot(gs[1,0])\n",
      "c = ax3.imshow(a_abs_mat_a,interpolation='none',origin='lower'); plt.title('$A_{abs}$ For One Object',fontsize=fs); plt.colorbar(c,shrink=sh)\n",
      "plt.ylabel('Pixels',fontsize=fs)\n",
      "\n",
      "ax4 = fig.add_subplot(gs[1,1])\n",
      "d = ax4.imshow(a_abs_mat_tot,interpolation='none',origin='lower'); plt.title('$A_{abs}$ For Blended Object',fontsize=fs); plt.colorbar(d,shrink=sh)\n",
      "\n",
      "ax5 = fig.add_subplot(gs[2,0])\n",
      "e = ax5.imshow(m_20_mat_a,interpolation='none',origin='lower'); plt.title('$M_{20}$ For One Object',fontsize=fs); plt.colorbar(e,shrink=sh)\n",
      "plt.ylabel('Pixels',fontsize=fs)\n",
      "\n",
      "ax6 = fig.add_subplot(gs[2,1])\n",
      "f = ax6.imshow(m_20_mat_tot,interpolation='none',origin='lower'); plt.title('$M_{20}$ For Blended Object',fontsize=fs); plt.colorbar(f,shrink=sh)\n",
      "\n",
      "ax7 = fig.add_subplot(gs[3,0])\n",
      "g = ax7.imshow(regions_a[0],interpolation='none',origin='lower'); plt.title('Maximum Observed Regions For One Object',fontsize=fs); plt.colorbar(g,shrink=sh)\n",
      "plt.xlabel('Pixels',fontsize=fs)\n",
      "plt.ylabel('Pixels',fontsize=fs)\n",
      "\n",
      "ax8 = fig.add_subplot(gs[3,1])\n",
      "h = ax8.imshow(regions_tot[0]+regions_tot[1]+regions_tot[2]+regions_tot[3]+regions_tot[4],interpolation='none',origin='lower'); plt.title('Maximum Observed Regions For Blended Object',fontsize=fs); plt.colorbar(h,shrink=sh)\n",
      "plt.xlabel('Pixels',fontsize=fs)\n",
      "plt.savefig('stats.png')\n",
      "\n",
      "plt.show()"
     ],
     "language": "python",
     "metadata": {},
     "outputs": [],
     "prompt_number": 16
    },
    {
     "cell_type": "code",
     "collapsed": false,
     "input": [
      "gini_a"
     ],
     "language": "python",
     "metadata": {},
     "outputs": [
      {
       "metadata": {},
       "output_type": "pyout",
       "prompt_number": 46,
       "text": [
        "0.75856367520387846"
       ]
      }
     ],
     "prompt_number": 46
    },
    {
     "cell_type": "code",
     "collapsed": false,
     "input": [
      "peak_a"
     ],
     "language": "python",
     "metadata": {},
     "outputs": [
      {
       "metadata": {},
       "output_type": "pyout",
       "prompt_number": 47,
       "text": [
        "[-7.5, 0.0]"
       ]
      }
     ],
     "prompt_number": 47
    },
    {
     "cell_type": "code",
     "collapsed": false,
     "input": [
      "a_where_a"
     ],
     "language": "python",
     "metadata": {},
     "outputs": [
      {
       "metadata": {},
       "output_type": "pyout",
       "prompt_number": 48,
       "text": [
        "(-7, 0)"
       ]
      }
     ],
     "prompt_number": 48
    },
    {
     "cell_type": "code",
     "collapsed": false,
     "input": [
      "a_est_a"
     ],
     "language": "python",
     "metadata": {},
     "outputs": [
      {
       "metadata": {},
       "output_type": "pyout",
       "prompt_number": 49,
       "text": [
        "0.14915344936129113"
       ]
      }
     ],
     "prompt_number": 49
    },
    {
     "cell_type": "code",
     "collapsed": false,
     "input": [
      "m_where_a"
     ],
     "language": "python",
     "metadata": {},
     "outputs": [
      {
       "metadata": {},
       "output_type": "pyout",
       "prompt_number": 50,
       "text": [
        "(-8, 0)"
       ]
      }
     ],
     "prompt_number": 50
    },
    {
     "cell_type": "code",
     "collapsed": false,
     "input": [
      "m_20_a"
     ],
     "language": "python",
     "metadata": {},
     "outputs": [
      {
       "metadata": {},
       "output_type": "pyout",
       "prompt_number": 51,
       "text": [
        "0.02421154129261549"
       ]
      }
     ],
     "prompt_number": 51
    },
    {
     "cell_type": "code",
     "collapsed": false,
     "input": [
      "gini_tot"
     ],
     "language": "python",
     "metadata": {},
     "outputs": [
      {
       "metadata": {},
       "output_type": "pyout",
       "prompt_number": 52,
       "text": [
        "0.46186487202575482"
       ]
      }
     ],
     "prompt_number": 52
    },
    {
     "cell_type": "code",
     "collapsed": false,
     "input": [
      "a_where_tot"
     ],
     "language": "python",
     "metadata": {},
     "outputs": [
      {
       "metadata": {},
       "output_type": "pyout",
       "prompt_number": 53,
       "text": [
        "(0, 0)"
       ]
      }
     ],
     "prompt_number": 53
    },
    {
     "cell_type": "code",
     "collapsed": false,
     "input": [
      "a_est_tot"
     ],
     "language": "python",
     "metadata": {},
     "outputs": [
      {
       "metadata": {},
       "output_type": "pyout",
       "prompt_number": 54,
       "text": [
        "0.20370622682382519"
       ]
      }
     ],
     "prompt_number": 54
    },
    {
     "cell_type": "code",
     "collapsed": false,
     "input": [
      "m_where_tot"
     ],
     "language": "python",
     "metadata": {},
     "outputs": [
      {
       "metadata": {},
       "output_type": "pyout",
       "prompt_number": 55,
       "text": [
        "(-2, 0)"
       ]
      }
     ],
     "prompt_number": 55
    },
    {
     "cell_type": "code",
     "collapsed": false,
     "input": [
      "m_20_tot"
     ],
     "language": "python",
     "metadata": {},
     "outputs": [
      {
       "metadata": {},
       "output_type": "pyout",
       "prompt_number": 56,
       "text": [
        "0.026695807703273348"
       ]
      }
     ],
     "prompt_number": 56
    },
    {
     "cell_type": "code",
     "collapsed": true,
     "input": [
      "reg_a, n_cent_a, p_a = cs.compute_mm(image_a.array,100,2,.35)"
     ],
     "language": "python",
     "metadata": {},
     "outputs": [],
     "prompt_number": 20
    },
    {
     "cell_type": "code",
     "collapsed": false,
     "input": [
      "plt.imshow(reg_a[0],interpolation='none',origin='lower')"
     ],
     "language": "python",
     "metadata": {},
     "outputs": [
      {
       "metadata": {},
       "output_type": "pyout",
       "prompt_number": 33,
       "text": [
        "<matplotlib.image.AxesImage at 0xc1fafcc>"
       ]
      },
      {
       "metadata": {},
       "output_type": "display_data",
       "png": "[encoded data removed]",
       "text": [
        "<matplotlib.figure.Figure at 0xc12bd2c>"
       ]
      }
     ],
     "prompt_number": 33
    },
    {
     "cell_type": "code",
     "collapsed": false,
     "input": [
      "n_cent_a"
     ],
     "language": "python",
     "metadata": {},
     "outputs": [
      {
       "metadata": {},
       "output_type": "pyout",
       "prompt_number": 34,
       "text": [
        "1"
       ]
      }
     ],
     "prompt_number": 34
    },
    {
     "cell_type": "code",
     "collapsed": false,
     "input": [
      "p_a"
     ],
     "language": "python",
     "metadata": {},
     "outputs": [
      {
       "metadata": {},
       "output_type": "pyout",
       "prompt_number": 23,
       "text": [
        "0.94999999999999996"
       ]
      }
     ],
     "prompt_number": 23
    },
    {
     "cell_type": "code",
     "collapsed": false,
     "input": [
      "reg_tot, n_cent_tot, p_tot = cs.compute_mm(image_tot.array,1000,2,0.35)"
     ],
     "language": "python",
     "metadata": {},
     "outputs": [],
     "prompt_number": 48
    },
    {
     "cell_type": "code",
     "collapsed": false,
     "input": [
      "plt.imshow(reg_tot[1],interpolation='none',origin='lower')"
     ],
     "language": "python",
     "metadata": {},
     "outputs": [
      {
       "metadata": {},
       "output_type": "pyout",
       "prompt_number": 50,
       "text": [
        "<matplotlib.image.AxesImage at 0xc84dbec>"
       ]
      }
     ],
     "prompt_number": 50
    },
    {
     "cell_type": "code",
     "collapsed": false,
     "input": [
      "n_cent_tot"
     ],
     "language": "python",
     "metadata": {},
     "outputs": [
      {
       "metadata": {},
       "output_type": "pyout",
       "prompt_number": 53,
       "text": [
        "5"
       ]
      }
     ],
     "prompt_number": 53
    },
    {
     "cell_type": "code",
     "collapsed": false,
     "input": [
      "p_a"
     ],
     "language": "python",
     "metadata": {},
     "outputs": [
      {
       "metadata": {},
       "output_type": "pyout",
       "prompt_number": 30,
       "text": [
        "0.94999999999999996"
       ]
      }
     ],
     "prompt_number": 30
    },
    {
     "cell_type": "code",
     "collapsed": false,
     "input": [
      "len(reg_tot)"
     ],
     "language": "python",
     "metadata": {},
     "outputs": [
      {
       "metadata": {},
       "output_type": "pyout",
       "prompt_number": 41,
       "text": [
        "3"
       ]
      }
     ],
     "prompt_number": 41
    },
    {
     "cell_type": "code",
     "collapsed": false,
     "input": [],
     "language": "python",
     "metadata": {},
     "outputs": []
    }
   ],
   "metadata": {}
  }
 ]
}