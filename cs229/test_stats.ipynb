{
 "metadata": {
  "name": "",
  "signature": "sha256:238e8ffedde7b3069357ea4574881f774db1f1b5141c8c04d00cce9044d7b838"
 },
 "nbformat": 3,
 "nbformat_minor": 0,
 "worksheets": [
  {
   "cells": [
    {
     "cell_type": "code",
     "collapsed": false,
     "input": [
      "## Creates blend and non-blend and analyzes the statistics of each image.\n",
      "from __future__ import division\n",
      "import Library\n",
      "import compute_stats as cs\n",
      "import galsim\n",
      "import numpy as np\n",
      "import matplotlib.pyplot as plt\n",
      "import matplotlib.gridspec as gridspec\n",
      "%matplotlib inline"
     ],
     "language": "python",
     "metadata": {},
     "outputs": [],
     "prompt_number": 1
    },
    {
     "cell_type": "code",
     "collapsed": false,
     "input": [
      "# Parameters for objects\n",
      "flux_a = 75000 ; flux_b = flux_a\n",
      "hlr_a = 1 ; hlr_b = hlr_a\n",
      "e1_a = 0.4 ; e1_b = -0.3\n",
      "e2_a =-0.1 ; e2_b = -0.05\n",
      "x0_a = -1.5 ; x0_b = 0.5\n",
      "y0_a = 0 ; y0_b = 0\n",
      "peak_a = [x0_a/0.2,y0_a/0.2]; peak_b = [x0_b/0.2,y0_b/0.2] "
     ],
     "language": "python",
     "metadata": {},
     "outputs": [],
     "prompt_number": 2
    },
    {
     "cell_type": "code",
     "collapsed": false,
     "input": [
      "# Parameters for image\n",
      "x_len = y_len = 25\n",
      "# Use photon shooting\n",
      "method = 'phot'\n",
      "seed_a = galsim.BaseDeviate(1)\n",
      "seed_b = galsim.BaseDeviate(2)"
     ],
     "language": "python",
     "metadata": {},
     "outputs": [],
     "prompt_number": 3
    },
    {
     "cell_type": "code",
     "collapsed": false,
     "input": [
      "image_a = Library.create_galaxy(flux_a,hlr_a,e1_a,e2_a,x0_a,y0_a,method=method,seed=seed_a,x_len=x_len,y_len=y_len)\n",
      "image_b = Library.create_galaxy(flux_b,hlr_b,e1_b,e2_b,x0_b,y0_b,method=method,seed=seed_b,x_len=x_len,y_len=y_len)\n",
      "image_tot = image_a + image_b"
     ],
     "language": "python",
     "metadata": {},
     "outputs": [],
     "prompt_number": 4
    },
    {
     "cell_type": "code",
     "collapsed": false,
     "input": [
      "# Compute the gini coefficients of each image and the sum\n",
      "gini_a = cs.compute_gini(image_a.array,0)\n",
      "gini_b = cs.compute_gini(image_b.array,0)\n",
      "gini_tot = cs.compute_gini(image_tot.array,0)"
     ],
     "language": "python",
     "metadata": {},
     "outputs": [],
     "prompt_number": 20
    },
    {
     "cell_type": "code",
     "collapsed": false,
     "input": [
      "# Compute the asymmetry coefficient for one image and the sum\n",
      "a_rms_a,a_abs_a,a_abs_mat_a,a_est_a,a_where_a = cs.compute_asym(image_a.array,peak_a,x_len,y_len)\n",
      "a_abs_mat_a = np.transpose(a_abs_mat_a)\n",
      "a_rms_tot,a_abs_tot,a_abs_mat_tot,a_est_tot,a_where_tot = cs.compute_asym(image_tot.array,peak_a,x_len,y_len)\n",
      "a_abs_mat_tot = np.transpose(a_abs_mat_tot)"
     ],
     "language": "python",
     "metadata": {},
     "outputs": [],
     "prompt_number": 21
    },
    {
     "cell_type": "code",
     "collapsed": false,
     "input": [
      "# Compute the moment of light for one image and the sum\n",
      "m_20_mat_a,m_20_a, m_where_a = cs.find_min_m20(image_a.array,x_len,y_len)\n",
      "m_20_mat_tot,m_20_tot, m_where_tot = cs.find_min_m20(image_tot.array,x_len,y_len)\n",
      "m_where_a = (m_where_a[1],m_where_a[0])\n",
      "m_where_tot = (m_where_tot[1],m_where_tot[0])"
     ],
     "language": "python",
     "metadata": {},
     "outputs": [],
     "prompt_number": 22
    },
    {
     "cell_type": "code",
     "collapsed": false,
     "input": [
      "gs = gridspec.GridSpec(4,2)"
     ],
     "language": "python",
     "metadata": {},
     "outputs": [],
     "prompt_number": 23
    },
    {
     "cell_type": "code",
     "collapsed": false,
     "input": [
      "# Now plot the results\n",
      "fig = plt.figure(figsize=(11,15))\n",
      "\n",
      "ax1 = fig.add_subplot(gs[0,0])\n",
      "a = ax1.imshow(image_a.array,interpolation='none',origin='lower'); plt.title('Image of One Object'); plt.colorbar(a)\n",
      "\n",
      "ax2 = fig.add_subplot(gs[0,1])\n",
      "b = ax2.imshow(image_tot.array,interpolation='none',origin='lower'); plt.title('Image of Blended Object'); plt.colorbar(b)\n",
      "\n",
      "ax3 = fig.add_subplot(gs[1,0])\n",
      "c = ax3.imshow(a_abs_mat_a,interpolation='none',origin='lower'); plt.title('Symmetry Coefficient For One Object'); plt.colorbar(c)\n",
      "\n",
      "ax4 = fig.add_subplot(gs[1,1])\n",
      "d = ax4.imshow(a_abs_mat_tot,interpolation='none',origin='lower'); plt.title('Symmetry Coefficient For Blended Object'); plt.colorbar(d)\n",
      "\n",
      "ax5 = fig.add_subplot(gs[2,0])\n",
      "e = ax5.imshow(m_20_mat_a,interpolation='none',origin='lower'); plt.title('$M_{20}$ For One Object'); plt.colorbar(e)\n",
      "\n",
      "ax6 = fig.add_subplot(gs[2,1])\n",
      "f = ax6.imshow(m_20_mat_tot,interpolation='none',origin='lower'); plt.title('$M_{20}$ For Blended Object'); plt.colorbar(f)\n",
      "\n",
      "plt.show()"
     ],
     "language": "python",
     "metadata": {},
     "outputs": [
      {
       "metadata": {},
       "output_type": "display_data",
       "png": "[encoded data removed]",
       "text": [
        "<matplotlib.figure.Figure at 0xbccf04c>"
       ]
      }
     ],
     "prompt_number": 24
    },
    {
     "cell_type": "code",
     "collapsed": false,
     "input": [
      "gini_a"
     ],
     "language": "python",
     "metadata": {},
     "outputs": [
      {
       "metadata": {},
       "output_type": "pyout",
       "prompt_number": 25,
       "text": [
        "0.75856367520387846"
       ]
      }
     ],
     "prompt_number": 25
    },
    {
     "cell_type": "code",
     "collapsed": false,
     "input": [
      "peak_a"
     ],
     "language": "python",
     "metadata": {},
     "outputs": [
      {
       "metadata": {},
       "output_type": "pyout",
       "prompt_number": 26,
       "text": [
        "[-7.5, 0.0]"
       ]
      }
     ],
     "prompt_number": 26
    },
    {
     "cell_type": "code",
     "collapsed": false,
     "input": [
      "a_where_a"
     ],
     "language": "python",
     "metadata": {},
     "outputs": [
      {
       "metadata": {},
       "output_type": "pyout",
       "prompt_number": 27,
       "text": [
        "(-7, 0)"
       ]
      }
     ],
     "prompt_number": 27
    },
    {
     "cell_type": "code",
     "collapsed": false,
     "input": [
      "a_est_a"
     ],
     "language": "python",
     "metadata": {},
     "outputs": [
      {
       "metadata": {},
       "output_type": "pyout",
       "prompt_number": 28,
       "text": [
        "0.14915344936129113"
       ]
      }
     ],
     "prompt_number": 28
    },
    {
     "cell_type": "code",
     "collapsed": false,
     "input": [
      "m_where_a"
     ],
     "language": "python",
     "metadata": {},
     "outputs": [
      {
       "metadata": {},
       "output_type": "pyout",
       "prompt_number": 29,
       "text": [
        "(-8, 0)"
       ]
      }
     ],
     "prompt_number": 29
    },
    {
     "cell_type": "code",
     "collapsed": false,
     "input": [
      "m_20_a"
     ],
     "language": "python",
     "metadata": {},
     "outputs": [
      {
       "metadata": {},
       "output_type": "pyout",
       "prompt_number": 30,
       "text": [
        "0.02421154129261549"
       ]
      }
     ],
     "prompt_number": 30
    },
    {
     "cell_type": "code",
     "collapsed": false,
     "input": [
      "gini_tot"
     ],
     "language": "python",
     "metadata": {},
     "outputs": [
      {
       "metadata": {},
       "output_type": "pyout",
       "prompt_number": 31,
       "text": [
        "0.62438024608361264"
       ]
      }
     ],
     "prompt_number": 31
    },
    {
     "cell_type": "code",
     "collapsed": false,
     "input": [
      "a_where_tot"
     ],
     "language": "python",
     "metadata": {},
     "outputs": [
      {
       "metadata": {},
       "output_type": "pyout",
       "prompt_number": 32,
       "text": [
        "(-2, 0)"
       ]
      }
     ],
     "prompt_number": 32
    },
    {
     "cell_type": "code",
     "collapsed": false,
     "input": [
      "a_est_tot"
     ],
     "language": "python",
     "metadata": {},
     "outputs": [
      {
       "metadata": {},
       "output_type": "pyout",
       "prompt_number": 33,
       "text": [
        "0.23101745949109753"
       ]
      }
     ],
     "prompt_number": 33
    },
    {
     "cell_type": "code",
     "collapsed": false,
     "input": [
      "m_where_tot"
     ],
     "language": "python",
     "metadata": {},
     "outputs": [
      {
       "metadata": {},
       "output_type": "pyout",
       "prompt_number": 34,
       "text": [
        "(-1, 0)"
       ]
      }
     ],
     "prompt_number": 34
    },
    {
     "cell_type": "code",
     "collapsed": false,
     "input": [
      "m_20_tot"
     ],
     "language": "python",
     "metadata": {},
     "outputs": [
      {
       "metadata": {},
       "output_type": "pyout",
       "prompt_number": 35,
       "text": [
        "0.022741060652225292"
       ]
      }
     ],
     "prompt_number": 35
    },
    {
     "cell_type": "code",
     "collapsed": true,
     "input": [
      "mm_a, p_a, reg_a, n_cent_a = cs.compute_mm(image_a.array,100,2,3/8)"
     ],
     "language": "python",
     "metadata": {},
     "outputs": [],
     "prompt_number": 36
    },
    {
     "cell_type": "code",
     "collapsed": false,
     "input": [
      "plt.imshow(reg_a[0],interpolation='none',origin='lower')"
     ],
     "language": "python",
     "metadata": {},
     "outputs": [
      {
       "metadata": {},
       "output_type": "pyout",
       "prompt_number": 38,
       "text": [
        "<matplotlib.image.AxesImage at 0xcf16a4c>"
       ]
      },
      {
       "metadata": {},
       "output_type": "display_data",
       "png": "[encoded data removed]",
       "text": [
        "<matplotlib.figure.Figure at 0xcd3476c>"
       ]
      }
     ],
     "prompt_number": 38
    },
    {
     "cell_type": "code",
     "collapsed": false,
     "input": [
      "n_cent_a"
     ],
     "language": "python",
     "metadata": {},
     "outputs": [
      {
       "metadata": {},
       "output_type": "pyout",
       "prompt_number": 39,
       "text": [
        "1L"
       ]
      }
     ],
     "prompt_number": 39
    },
    {
     "cell_type": "code",
     "collapsed": false,
     "input": [
      "p_a"
     ],
     "language": "python",
     "metadata": {},
     "outputs": [
      {
       "metadata": {},
       "output_type": "pyout",
       "prompt_number": 47,
       "text": [
        "0.94999999999999996"
       ]
      }
     ],
     "prompt_number": 47
    },
    {
     "cell_type": "code",
     "collapsed": false,
     "input": [
      "mm_a"
     ],
     "language": "python",
     "metadata": {},
     "outputs": [
      {
       "metadata": {},
       "output_type": "pyout",
       "prompt_number": 40,
       "text": [
        "1.0"
       ]
      }
     ],
     "prompt_number": 40
    },
    {
     "cell_type": "code",
     "collapsed": false,
     "input": [
      "mm_tot, p_tot, reg_tot, n_cent_tot = cs.compute_mm(image_tot.array,100,2,3/8)"
     ],
     "language": "python",
     "metadata": {},
     "outputs": [],
     "prompt_number": 5
    },
    {
     "cell_type": "code",
     "collapsed": false,
     "input": [
      "plt.imshow(reg_tot[1],interpolation='none',origin='lower')"
     ],
     "language": "python",
     "metadata": {},
     "outputs": [
      {
       "metadata": {},
       "output_type": "pyout",
       "prompt_number": 7,
       "text": [
        "<matplotlib.image.AxesImage at 0xbb36e6c>"
       ]
      },
      {
       "metadata": {},
       "output_type": "display_data",
       "png": "[encoded data removed]",
       "text": [
        "<matplotlib.figure.Figure at 0xba533ec>"
       ]
      }
     ],
     "prompt_number": 7
    },
    {
     "cell_type": "code",
     "collapsed": false,
     "input": [
      "n_cent_tot"
     ],
     "language": "python",
     "metadata": {},
     "outputs": [
      {
       "metadata": {},
       "output_type": "pyout",
       "prompt_number": 62,
       "text": [
        "2L"
       ]
      }
     ],
     "prompt_number": 62
    },
    {
     "cell_type": "code",
     "collapsed": false,
     "input": [
      "p_a"
     ],
     "language": "python",
     "metadata": {},
     "outputs": [
      {
       "metadata": {},
       "output_type": "pyout",
       "prompt_number": 63,
       "text": [
        "0.94999999999999996"
       ]
      }
     ],
     "prompt_number": 63
    },
    {
     "cell_type": "code",
     "collapsed": false,
     "input": [
      "mm_tot"
     ],
     "language": "python",
     "metadata": {},
     "outputs": [
      {
       "metadata": {},
       "output_type": "pyout",
       "prompt_number": 64,
       "text": [
        "0.17999999999999999"
       ]
      }
     ],
     "prompt_number": 64
    },
    {
     "cell_type": "code",
     "collapsed": false,
     "input": [
      "intensity_ratio = min(sum(sum(reg_tot[0])),sum(sum(reg_tot[1])))/max(sum(sum(reg_tot[0])),sum(sum(reg_tot[1])))\n",
      "intensity_ratio"
     ],
     "language": "python",
     "metadata": {},
     "outputs": [
      {
       "metadata": {},
       "output_type": "pyout",
       "prompt_number": 67,
       "text": [
        "0.1946281299749012"
       ]
      }
     ],
     "prompt_number": 67
    },
    {
     "cell_type": "code",
     "collapsed": false,
     "input": [
      "len(reg_tot)"
     ],
     "language": "python",
     "metadata": {},
     "outputs": [
      {
       "metadata": {},
       "output_type": "pyout",
       "prompt_number": 8,
       "text": [
        "2"
       ]
      }
     ],
     "prompt_number": 8
    },
    {
     "cell_type": "code",
     "collapsed": false,
     "input": [
      "np.max(reg_tot)"
     ],
     "language": "python",
     "metadata": {},
     "outputs": [
      {
       "metadata": {},
       "output_type": "pyout",
       "prompt_number": 9,
       "text": [
        "917.65854804861885"
       ]
      }
     ],
     "prompt_number": 9
    },
    {
     "cell_type": "code",
     "collapsed": false,
     "input": [],
     "language": "python",
     "metadata": {},
     "outputs": []
    }
   ],
   "metadata": {}
  }
 ]
}