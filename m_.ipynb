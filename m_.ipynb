{
 "metadata": {
  "name": "",
  "signature": "sha256:96b44be4da8fee2b98f066f8ab09d20b1dcc0f3c656fbcff99abb769681f271b"
 },
 "nbformat": 3,
 "nbformat_minor": 0,
 "worksheets": [
  {
   "cells": [
    {
     "cell_type": "code",
     "collapsed": false,
     "input": [
      "import numpy as np\n",
      "import random"
     ],
     "language": "python",
     "metadata": {},
     "outputs": [],
     "prompt_number": 36
    },
    {
     "cell_type": "code",
     "collapsed": false,
     "input": [
      "# First we initialize an empty data list noting that this will become a matrix of information.\n",
      "data = []\n",
      "# Let's say we want 5 trials\n",
      "num_trials = 5"
     ],
     "language": "python",
     "metadata": {},
     "outputs": [],
     "prompt_number": 37
    },
    {
     "cell_type": "code",
     "collapsed": false,
     "input": [
      "# We want to loop through some function that will create some information, 5 times.\n",
      "for i in xrange(0,num_trials):\n",
      "    # You would have lmfit in here return a vector of values.\n",
      "    \n",
      "    # For now, I'm going to have a numpy random function return a vector of 3 values for me.\n",
      "    vector_of_data = [random.randint(0,10),random.randint(0,10),random.randint(0,10)]\n",
      "    # random.randint returns an integer from [a,b] with a = 0 and b = 10, in the above case.\n",
      "    # Now that I have my data, I want to append it to the larger data array\n",
      "    data.append(vector_of_data)"
     ],
     "language": "python",
     "metadata": {},
     "outputs": [],
     "prompt_number": 38
    },
    {
     "cell_type": "code",
     "collapsed": false,
     "input": [
      "# The data array, as a list of lists looks like:\n",
      "data"
     ],
     "language": "python",
     "metadata": {},
     "outputs": [
      {
       "metadata": {},
       "output_type": "pyout",
       "prompt_number": 39,
       "text": [
        "[[5, 1, 9], [8, 1, 1], [7, 1, 10], [3, 6, 3], [6, 5, 9]]"
       ]
      }
     ],
     "prompt_number": 39
    },
    {
     "cell_type": "code",
     "collapsed": false,
     "input": [
      "# Now after gathering all the data, I convert it to a numpy array for numpy methods\n",
      "data = np.array(data)"
     ],
     "language": "python",
     "metadata": {},
     "outputs": [],
     "prompt_number": 40
    },
    {
     "cell_type": "code",
     "collapsed": false,
     "input": [
      "#The data matrix as a numpy array looks like this:\n",
      "data"
     ],
     "language": "python",
     "metadata": {},
     "outputs": [
      {
       "metadata": {},
       "output_type": "pyout",
       "prompt_number": 41,
       "text": [
        "array([[ 5,  1,  9],\n",
        "       [ 8,  1,  1],\n",
        "       [ 7,  1, 10],\n",
        "       [ 3,  6,  3],\n",
        "       [ 6,  5,  9]])"
       ]
      }
     ],
     "prompt_number": 41
    },
    {
     "cell_type": "code",
     "collapsed": false,
     "input": [
      "# Now we want to write out this information to a text file with headers. We can do the following:\n",
      "np.savetxt('textfile.txt', data, header='column1 column2 column3')"
     ],
     "language": "python",
     "metadata": {},
     "outputs": [],
     "prompt_number": 34
    }
   ],
   "metadata": {}
  }
 ]
}